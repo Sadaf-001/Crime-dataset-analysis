{
 "cells": [
  {
   "cell_type": "code",
   "execution_count": 23,
   "id": "6b779bed",
   "metadata": {},
   "outputs": [],
   "source": [
    "import pymysql\n",
    "import pandas as pd\n",
    "import matplotlib.pyplot as plt\n",
    "import seaborn as sns\n",
    "import plotly.express as px\n",
    "import warnings\n",
    "warnings.filterwarnings(\"ignore\")"
   ]
  },
  {
   "cell_type": "code",
   "execution_count": 2,
   "id": "c258391f",
   "metadata": {},
   "outputs": [],
   "source": [
    "conn=pymysql.connect(\n",
    "host='localhost',\n",
    "user='root',\n",
    "password='root',\n",
    "db='crime_data'\n",
    ")"
   ]
  },
  {
   "cell_type": "code",
   "execution_count": 3,
   "id": "d26c3b24",
   "metadata": {},
   "outputs": [
    {
     "name": "stdout",
     "output_type": "stream",
     "text": [
      "<pymysql.connections.Connection object at 0x000002F1AF6F1350>\n"
     ]
    },
    {
     "data": {
      "text/html": [
       "<div>\n",
       "<style scoped>\n",
       "    .dataframe tbody tr th:only-of-type {\n",
       "        vertical-align: middle;\n",
       "    }\n",
       "\n",
       "    .dataframe tbody tr th {\n",
       "        vertical-align: top;\n",
       "    }\n",
       "\n",
       "    .dataframe thead th {\n",
       "        text-align: right;\n",
       "    }\n",
       "</style>\n",
       "<table border=\"1\" class=\"dataframe\">\n",
       "  <thead>\n",
       "    <tr style=\"text-align: right;\">\n",
       "      <th></th>\n",
       "      <th>DR_NO</th>\n",
       "      <th>Date_Rptd</th>\n",
       "      <th>DATE_OCC</th>\n",
       "      <th>AREA_NAME</th>\n",
       "      <th>Crm_Cd</th>\n",
       "      <th>Crm_Cd_Desc</th>\n",
       "      <th>Vict_Age</th>\n",
       "      <th>Vict_Sex</th>\n",
       "      <th>Premis_Desc</th>\n",
       "      <th>Status</th>\n",
       "      <th>Location</th>\n",
       "      <th>LAT</th>\n",
       "      <th>LON</th>\n",
       "    </tr>\n",
       "  </thead>\n",
       "  <tbody>\n",
       "    <tr>\n",
       "      <th>0</th>\n",
       "      <td>10304468</td>\n",
       "      <td>2020-08-01</td>\n",
       "      <td>2020-08-01</td>\n",
       "      <td>Southwest</td>\n",
       "      <td>624</td>\n",
       "      <td>BATTERY - SIMPLE ASSAULT</td>\n",
       "      <td>36</td>\n",
       "      <td>F</td>\n",
       "      <td>SINGLE FAMILY DWELLING</td>\n",
       "      <td>AO</td>\n",
       "      <td>1100 W 39TH PL</td>\n",
       "      <td>34.01</td>\n",
       "      <td>-118.30</td>\n",
       "    </tr>\n",
       "    <tr>\n",
       "      <th>1</th>\n",
       "      <td>190101086</td>\n",
       "      <td>2020-02-01</td>\n",
       "      <td>2020-01-01</td>\n",
       "      <td>Central</td>\n",
       "      <td>624</td>\n",
       "      <td>BATTERY - SIMPLE ASSAULT</td>\n",
       "      <td>25</td>\n",
       "      <td>M</td>\n",
       "      <td>SIDEWALK</td>\n",
       "      <td>IC</td>\n",
       "      <td>700 S HILL ST</td>\n",
       "      <td>34.05</td>\n",
       "      <td>-118.25</td>\n",
       "    </tr>\n",
       "    <tr>\n",
       "      <th>2</th>\n",
       "      <td>191501505</td>\n",
       "      <td>2020-01-01</td>\n",
       "      <td>2020-01-01</td>\n",
       "      <td>N Hollywood</td>\n",
       "      <td>745</td>\n",
       "      <td>VANDALISM - MISDEAMEANOR ($399 OR UNDER)</td>\n",
       "      <td>76</td>\n",
       "      <td>F</td>\n",
       "      <td>MULTI-UNIT DWELLING (APARTMENT, DUPLEX, ETC)</td>\n",
       "      <td>IC</td>\n",
       "      <td>5400 CORTEEN PL</td>\n",
       "      <td>34.17</td>\n",
       "      <td>-118.40</td>\n",
       "    </tr>\n",
       "    <tr>\n",
       "      <th>3</th>\n",
       "      <td>191921269</td>\n",
       "      <td>2020-01-01</td>\n",
       "      <td>2020-01-01</td>\n",
       "      <td>Mission</td>\n",
       "      <td>740</td>\n",
       "      <td>VANDALISM - FELONY ($400 &amp; OVER, ALL CHURCH VA...</td>\n",
       "      <td>31</td>\n",
       "      <td>X</td>\n",
       "      <td>BEAUTY SUPPLY STORE</td>\n",
       "      <td>IC</td>\n",
       "      <td>14400 TITUS ST</td>\n",
       "      <td>34.22</td>\n",
       "      <td>-118.45</td>\n",
       "    </tr>\n",
       "    <tr>\n",
       "      <th>4</th>\n",
       "      <td>200100502</td>\n",
       "      <td>2020-02-01</td>\n",
       "      <td>2020-02-01</td>\n",
       "      <td>Central</td>\n",
       "      <td>442</td>\n",
       "      <td>SHOPLIFTING - PETTY THEFT ($950 &amp; UNDER)</td>\n",
       "      <td>23</td>\n",
       "      <td>M</td>\n",
       "      <td>DEPARTMENT STORE</td>\n",
       "      <td>IC</td>\n",
       "      <td>700 S FIGUEROA ST</td>\n",
       "      <td>34.05</td>\n",
       "      <td>-118.26</td>\n",
       "    </tr>\n",
       "    <tr>\n",
       "      <th>...</th>\n",
       "      <td>...</td>\n",
       "      <td>...</td>\n",
       "      <td>...</td>\n",
       "      <td>...</td>\n",
       "      <td>...</td>\n",
       "      <td>...</td>\n",
       "      <td>...</td>\n",
       "      <td>...</td>\n",
       "      <td>...</td>\n",
       "      <td>...</td>\n",
       "      <td>...</td>\n",
       "      <td>...</td>\n",
       "      <td>...</td>\n",
       "    </tr>\n",
       "    <tr>\n",
       "      <th>494</th>\n",
       "      <td>211507896</td>\n",
       "      <td>2021-11-04</td>\n",
       "      <td>2020-07-11</td>\n",
       "      <td>N Hollywood</td>\n",
       "      <td>354</td>\n",
       "      <td>THEFT OF IDENTITY</td>\n",
       "      <td>31</td>\n",
       "      <td>M</td>\n",
       "      <td>SINGLE FAMILY DWELLING</td>\n",
       "      <td>IC</td>\n",
       "      <td>100 W WASHINGTON BL</td>\n",
       "      <td>34.21</td>\n",
       "      <td>-118.41</td>\n",
       "    </tr>\n",
       "    <tr>\n",
       "      <th>495</th>\n",
       "      <td>211613998</td>\n",
       "      <td>2021-08-11</td>\n",
       "      <td>2020-01-11</td>\n",
       "      <td>Foothill</td>\n",
       "      <td>354</td>\n",
       "      <td>THEFT OF IDENTITY</td>\n",
       "      <td>64</td>\n",
       "      <td>F</td>\n",
       "      <td>SINGLE FAMILY DWELLING</td>\n",
       "      <td>IC</td>\n",
       "      <td>WESTLAKE</td>\n",
       "      <td>34.27</td>\n",
       "      <td>-118.36</td>\n",
       "    </tr>\n",
       "    <tr>\n",
       "      <th>496</th>\n",
       "      <td>211715638</td>\n",
       "      <td>2021-01-12</td>\n",
       "      <td>2020-09-12</td>\n",
       "      <td>Devonshire</td>\n",
       "      <td>354</td>\n",
       "      <td>THEFT OF IDENTITY</td>\n",
       "      <td>56</td>\n",
       "      <td>F</td>\n",
       "      <td>SINGLE FAMILY DWELLING</td>\n",
       "      <td>IC</td>\n",
       "      <td>BURLINGTON</td>\n",
       "      <td>34.28</td>\n",
       "      <td>-118.47</td>\n",
       "    </tr>\n",
       "    <tr>\n",
       "      <th>497</th>\n",
       "      <td>220705246</td>\n",
       "      <td>2022-03-02</td>\n",
       "      <td>2020-11-02</td>\n",
       "      <td>Wilshire</td>\n",
       "      <td>341</td>\n",
       "      <td>THEFT-GRAND ($950.01 &amp; OVER)EXCPT,GUNS,FOWL,LI...</td>\n",
       "      <td>57</td>\n",
       "      <td>F</td>\n",
       "      <td>SINGLE FAMILY DWELLING</td>\n",
       "      <td>IC</td>\n",
       "      <td>7900 WOODMAN AV</td>\n",
       "      <td>34.06</td>\n",
       "      <td>-118.34</td>\n",
       "    </tr>\n",
       "    <tr>\n",
       "      <th>498</th>\n",
       "      <td>222013040</td>\n",
       "      <td>2022-06-08</td>\n",
       "      <td>2020-04-06</td>\n",
       "      <td>Olympic</td>\n",
       "      <td>354</td>\n",
       "      <td>THEFT OF IDENTITY</td>\n",
       "      <td>60</td>\n",
       "      <td>M</td>\n",
       "      <td>SINGLE FAMILY DWELLING</td>\n",
       "      <td>IC</td>\n",
       "      <td>2200 W SUNSET BL</td>\n",
       "      <td>34.05</td>\n",
       "      <td>-118.30</td>\n",
       "    </tr>\n",
       "  </tbody>\n",
       "</table>\n",
       "<p>499 rows × 13 columns</p>\n",
       "</div>"
      ],
      "text/plain": [
       "         DR_NO   Date_Rptd    DATE_OCC    AREA_NAME  Crm_Cd  \\\n",
       "0     10304468  2020-08-01  2020-08-01    Southwest     624   \n",
       "1    190101086  2020-02-01  2020-01-01      Central     624   \n",
       "2    191501505  2020-01-01  2020-01-01  N Hollywood     745   \n",
       "3    191921269  2020-01-01  2020-01-01      Mission     740   \n",
       "4    200100502  2020-02-01  2020-02-01      Central     442   \n",
       "..         ...         ...         ...          ...     ...   \n",
       "494  211507896  2021-11-04  2020-07-11  N Hollywood     354   \n",
       "495  211613998  2021-08-11  2020-01-11     Foothill     354   \n",
       "496  211715638  2021-01-12  2020-09-12   Devonshire     354   \n",
       "497  220705246  2022-03-02  2020-11-02     Wilshire     341   \n",
       "498  222013040  2022-06-08  2020-04-06      Olympic     354   \n",
       "\n",
       "                                           Crm_Cd_Desc  Vict_Age Vict_Sex  \\\n",
       "0                             BATTERY - SIMPLE ASSAULT        36        F   \n",
       "1                             BATTERY - SIMPLE ASSAULT        25        M   \n",
       "2             VANDALISM - MISDEAMEANOR ($399 OR UNDER)        76        F   \n",
       "3    VANDALISM - FELONY ($400 & OVER, ALL CHURCH VA...        31        X   \n",
       "4             SHOPLIFTING - PETTY THEFT ($950 & UNDER)        23        M   \n",
       "..                                                 ...       ...      ...   \n",
       "494                                  THEFT OF IDENTITY        31        M   \n",
       "495                                  THEFT OF IDENTITY        64        F   \n",
       "496                                  THEFT OF IDENTITY        56        F   \n",
       "497  THEFT-GRAND ($950.01 & OVER)EXCPT,GUNS,FOWL,LI...        57        F   \n",
       "498                                  THEFT OF IDENTITY        60        M   \n",
       "\n",
       "                                      Premis_Desc Status             Location  \\\n",
       "0                          SINGLE FAMILY DWELLING     AO       1100 W 39TH PL   \n",
       "1                                        SIDEWALK     IC        700 S HILL ST   \n",
       "2    MULTI-UNIT DWELLING (APARTMENT, DUPLEX, ETC)     IC      5400 CORTEEN PL   \n",
       "3                             BEAUTY SUPPLY STORE     IC       14400 TITUS ST   \n",
       "4                                DEPARTMENT STORE     IC    700 S FIGUEROA ST   \n",
       "..                                            ...    ...                  ...   \n",
       "494                        SINGLE FAMILY DWELLING     IC  100 W WASHINGTON BL   \n",
       "495                        SINGLE FAMILY DWELLING     IC             WESTLAKE   \n",
       "496                        SINGLE FAMILY DWELLING     IC           BURLINGTON   \n",
       "497                        SINGLE FAMILY DWELLING     IC      7900 WOODMAN AV   \n",
       "498                        SINGLE FAMILY DWELLING     IC     2200 W SUNSET BL   \n",
       "\n",
       "       LAT     LON  \n",
       "0    34.01 -118.30  \n",
       "1    34.05 -118.25  \n",
       "2    34.17 -118.40  \n",
       "3    34.22 -118.45  \n",
       "4    34.05 -118.26  \n",
       "..     ...     ...  \n",
       "494  34.21 -118.41  \n",
       "495  34.27 -118.36  \n",
       "496  34.28 -118.47  \n",
       "497  34.06 -118.34  \n",
       "498  34.05 -118.30  \n",
       "\n",
       "[499 rows x 13 columns]"
      ]
     },
     "execution_count": 3,
     "metadata": {},
     "output_type": "execute_result"
    }
   ],
   "source": [
    "print(conn)\n",
    "query1 = \"select * from crimes\"\n",
    "df=pd.read_sql(query1,conn)\n",
    "df"
   ]
  },
  {
   "cell_type": "code",
   "execution_count": 4,
   "id": "68c0c0db",
   "metadata": {},
   "outputs": [
    {
     "data": {
      "text/plain": [
       "count        499\n",
       "unique        67\n",
       "top       STREET\n",
       "freq         105\n",
       "Name: Premis_Desc, dtype: object"
      ]
     },
     "execution_count": 4,
     "metadata": {},
     "output_type": "execute_result"
    }
   ],
   "source": [
    "df.Premis_Desc.describe()"
   ]
  },
  {
   "cell_type": "code",
   "execution_count": 5,
   "id": "868661d6",
   "metadata": {},
   "outputs": [
    {
     "data": {
      "text/plain": [
       "count    499.000000\n",
       "mean     504.178357\n",
       "std      198.381863\n",
       "min      210.000000\n",
       "25%      330.000000\n",
       "50%      442.000000\n",
       "75%      624.000000\n",
       "max      956.000000\n",
       "Name: Crm_Cd, dtype: float64"
      ]
     },
     "execution_count": 5,
     "metadata": {},
     "output_type": "execute_result"
    }
   ],
   "source": [
    "df.Crm_Cd.describe()"
   ]
  },
  {
   "cell_type": "code",
   "execution_count": 6,
   "id": "32d83106",
   "metadata": {},
   "outputs": [
    {
     "data": {
      "text/plain": [
       "array([624, 745, 740, 442, 946, 341, 330, 930, 648, 230, 350, 310, 480,\n",
       "       623, 440, 510, 210, 888, 761, 420, 421, 647, 354, 662, 220, 625,\n",
       "       755, 900, 320, 901, 956, 920, 850, 666, 351, 343, 890, 886, 649,\n",
       "       820, 812, 940], dtype=int64)"
      ]
     },
     "execution_count": 6,
     "metadata": {},
     "output_type": "execute_result"
    }
   ],
   "source": [
    "#unique values \n",
    "df.Crm_Cd.unique()"
   ]
  },
  {
   "cell_type": "code",
   "execution_count": 7,
   "id": "70e5051c",
   "metadata": {},
   "outputs": [
    {
     "data": {
      "text/plain": [
       "array(['F', 'M', 'X', ''], dtype=object)"
      ]
     },
     "execution_count": 7,
     "metadata": {},
     "output_type": "execute_result"
    }
   ],
   "source": [
    "df.Vict_Sex.unique()"
   ]
  },
  {
   "cell_type": "code",
   "execution_count": 8,
   "id": "8d9f4c4e",
   "metadata": {},
   "outputs": [
    {
     "data": {
      "text/plain": [
       "array(['Southwest', 'Central', 'N Hollywood', 'Mission', 'Rampart',\n",
       "       'Hollenbeck', 'Harbor', 'Hollywood', 'Wilshire', 'West LA',\n",
       "       'Van Nuys', 'West Valley', 'Northeast', '77th Street', 'Foothill',\n",
       "       'Southeast', 'Pacific', 'Devonshire', 'Olympic'], dtype=object)"
      ]
     },
     "execution_count": 8,
     "metadata": {},
     "output_type": "execute_result"
    }
   ],
   "source": [
    "df.AREA_NAME.unique()"
   ]
  },
  {
   "cell_type": "code",
   "execution_count": 9,
   "id": "37e67b89",
   "metadata": {},
   "outputs": [
    {
     "data": {
      "text/plain": [
       "array(['AO', 'IC', 'AA', 'JO'], dtype=object)"
      ]
     },
     "execution_count": 9,
     "metadata": {},
     "output_type": "execute_result"
    }
   ],
   "source": [
    "df.Status.unique()"
   ]
  },
  {
   "cell_type": "code",
   "execution_count": 10,
   "id": "3d46e12a",
   "metadata": {},
   "outputs": [
    {
     "data": {
      "text/html": [
       "<div>\n",
       "<style scoped>\n",
       "    .dataframe tbody tr th:only-of-type {\n",
       "        vertical-align: middle;\n",
       "    }\n",
       "\n",
       "    .dataframe tbody tr th {\n",
       "        vertical-align: top;\n",
       "    }\n",
       "\n",
       "    .dataframe thead th {\n",
       "        text-align: right;\n",
       "    }\n",
       "</style>\n",
       "<table border=\"1\" class=\"dataframe\">\n",
       "  <thead>\n",
       "    <tr style=\"text-align: right;\">\n",
       "      <th></th>\n",
       "      <th>Crm_Cd</th>\n",
       "      <th>Crm_Cd_Desc</th>\n",
       "    </tr>\n",
       "  </thead>\n",
       "  <tbody>\n",
       "    <tr>\n",
       "      <th>0</th>\n",
       "      <td>624</td>\n",
       "      <td>BATTERY - SIMPLE ASSAULT</td>\n",
       "    </tr>\n",
       "    <tr>\n",
       "      <th>2</th>\n",
       "      <td>745</td>\n",
       "      <td>VANDALISM - MISDEAMEANOR ($399 OR UNDER)</td>\n",
       "    </tr>\n",
       "    <tr>\n",
       "      <th>3</th>\n",
       "      <td>740</td>\n",
       "      <td>VANDALISM - FELONY ($400 &amp; OVER, ALL CHURCH VA...</td>\n",
       "    </tr>\n",
       "    <tr>\n",
       "      <th>4</th>\n",
       "      <td>442</td>\n",
       "      <td>SHOPLIFTING - PETTY THEFT ($950 &amp; UNDER)</td>\n",
       "    </tr>\n",
       "    <tr>\n",
       "      <th>5</th>\n",
       "      <td>946</td>\n",
       "      <td>OTHER MISCELLANEOUS CRIME</td>\n",
       "    </tr>\n",
       "    <tr>\n",
       "      <th>6</th>\n",
       "      <td>341</td>\n",
       "      <td>THEFT-GRAND ($950.01 &amp; OVER)EXCPT,GUNS,FOWL,LI...</td>\n",
       "    </tr>\n",
       "    <tr>\n",
       "      <th>7</th>\n",
       "      <td>330</td>\n",
       "      <td>BURGLARY FROM VEHICLE</td>\n",
       "    </tr>\n",
       "    <tr>\n",
       "      <th>8</th>\n",
       "      <td>930</td>\n",
       "      <td>CRIMINAL THREATS - NO WEAPON DISPLAYED</td>\n",
       "    </tr>\n",
       "    <tr>\n",
       "      <th>10</th>\n",
       "      <td>648</td>\n",
       "      <td>ARSON</td>\n",
       "    </tr>\n",
       "    <tr>\n",
       "      <th>12</th>\n",
       "      <td>230</td>\n",
       "      <td>ASSAULT WITH DEADLY WEAPON, AGGRAVATED ASSAULT</td>\n",
       "    </tr>\n",
       "    <tr>\n",
       "      <th>16</th>\n",
       "      <td>350</td>\n",
       "      <td>THEFT, PERSON</td>\n",
       "    </tr>\n",
       "    <tr>\n",
       "      <th>19</th>\n",
       "      <td>310</td>\n",
       "      <td>BURGLARY</td>\n",
       "    </tr>\n",
       "    <tr>\n",
       "      <th>22</th>\n",
       "      <td>480</td>\n",
       "      <td>BIKE - STOLEN</td>\n",
       "    </tr>\n",
       "    <tr>\n",
       "      <th>24</th>\n",
       "      <td>623</td>\n",
       "      <td>BATTERY POLICE (SIMPLE)</td>\n",
       "    </tr>\n",
       "    <tr>\n",
       "      <th>26</th>\n",
       "      <td>440</td>\n",
       "      <td>THEFT PLAIN - PETTY ($950 &amp; UNDER)</td>\n",
       "    </tr>\n",
       "    <tr>\n",
       "      <th>35</th>\n",
       "      <td>510</td>\n",
       "      <td>VEHICLE - STOLEN</td>\n",
       "    </tr>\n",
       "    <tr>\n",
       "      <th>39</th>\n",
       "      <td>210</td>\n",
       "      <td>ROBBERY</td>\n",
       "    </tr>\n",
       "    <tr>\n",
       "      <th>47</th>\n",
       "      <td>888</td>\n",
       "      <td>TRESPASSING</td>\n",
       "    </tr>\n",
       "    <tr>\n",
       "      <th>63</th>\n",
       "      <td>761</td>\n",
       "      <td>BRANDISH WEAPON</td>\n",
       "    </tr>\n",
       "    <tr>\n",
       "      <th>69</th>\n",
       "      <td>420</td>\n",
       "      <td>THEFT FROM MOTOR VEHICLE - PETTY ($950 &amp; UNDER)</td>\n",
       "    </tr>\n",
       "    <tr>\n",
       "      <th>108</th>\n",
       "      <td>421</td>\n",
       "      <td>THEFT FROM MOTOR VEHICLE - ATTEMPT</td>\n",
       "    </tr>\n",
       "    <tr>\n",
       "      <th>112</th>\n",
       "      <td>647</td>\n",
       "      <td>THROWING OBJECT AT MOVING VEHICLE</td>\n",
       "    </tr>\n",
       "    <tr>\n",
       "      <th>127</th>\n",
       "      <td>354</td>\n",
       "      <td>THEFT OF IDENTITY</td>\n",
       "    </tr>\n",
       "    <tr>\n",
       "      <th>132</th>\n",
       "      <td>662</td>\n",
       "      <td>BUNCO, GRAND THEFT</td>\n",
       "    </tr>\n",
       "    <tr>\n",
       "      <th>162</th>\n",
       "      <td>220</td>\n",
       "      <td>ATTEMPTED ROBBERY</td>\n",
       "    </tr>\n",
       "    <tr>\n",
       "      <th>164</th>\n",
       "      <td>625</td>\n",
       "      <td>OTHER ASSAULT</td>\n",
       "    </tr>\n",
       "    <tr>\n",
       "      <th>166</th>\n",
       "      <td>755</td>\n",
       "      <td>BOMB SCARE</td>\n",
       "    </tr>\n",
       "    <tr>\n",
       "      <th>214</th>\n",
       "      <td>900</td>\n",
       "      <td>VIOLATION OF COURT ORDER</td>\n",
       "    </tr>\n",
       "    <tr>\n",
       "      <th>231</th>\n",
       "      <td>320</td>\n",
       "      <td>BURGLARY, ATTEMPTED</td>\n",
       "    </tr>\n",
       "    <tr>\n",
       "      <th>266</th>\n",
       "      <td>901</td>\n",
       "      <td>VIOLATION OF RESTRAINING ORDER</td>\n",
       "    </tr>\n",
       "    <tr>\n",
       "      <th>294</th>\n",
       "      <td>956</td>\n",
       "      <td>LETTERS, LEWD  -  TELEPHONE CALLS, LEWD</td>\n",
       "    </tr>\n",
       "    <tr>\n",
       "      <th>339</th>\n",
       "      <td>920</td>\n",
       "      <td>KIDNAPPING - GRAND ATTEMPT</td>\n",
       "    </tr>\n",
       "    <tr>\n",
       "      <th>358</th>\n",
       "      <td>850</td>\n",
       "      <td>INDECENT EXPOSURE</td>\n",
       "    </tr>\n",
       "    <tr>\n",
       "      <th>364</th>\n",
       "      <td>666</td>\n",
       "      <td>BUNCO, ATTEMPT</td>\n",
       "    </tr>\n",
       "    <tr>\n",
       "      <th>380</th>\n",
       "      <td>351</td>\n",
       "      <td>PURSE SNATCHING</td>\n",
       "    </tr>\n",
       "    <tr>\n",
       "      <th>395</th>\n",
       "      <td>343</td>\n",
       "      <td>SHOPLIFTING-GRAND THEFT ($950.01 &amp; OVER)</td>\n",
       "    </tr>\n",
       "    <tr>\n",
       "      <th>446</th>\n",
       "      <td>890</td>\n",
       "      <td>FAILURE TO YIELD</td>\n",
       "    </tr>\n",
       "    <tr>\n",
       "      <th>450</th>\n",
       "      <td>886</td>\n",
       "      <td>DISTURBING THE PEACE</td>\n",
       "    </tr>\n",
       "    <tr>\n",
       "      <th>452</th>\n",
       "      <td>649</td>\n",
       "      <td>DOCUMENT FORGERY / STOLEN FELONY</td>\n",
       "    </tr>\n",
       "    <tr>\n",
       "      <th>483</th>\n",
       "      <td>820</td>\n",
       "      <td>ORAL COPULATION</td>\n",
       "    </tr>\n",
       "    <tr>\n",
       "      <th>490</th>\n",
       "      <td>812</td>\n",
       "      <td>CRM AGNST CHLD (13 OR UNDER) (14-15 &amp; SUSP 10 ...</td>\n",
       "    </tr>\n",
       "    <tr>\n",
       "      <th>491</th>\n",
       "      <td>940</td>\n",
       "      <td>EXTORTION</td>\n",
       "    </tr>\n",
       "  </tbody>\n",
       "</table>\n",
       "</div>"
      ],
      "text/plain": [
       "     Crm_Cd                                        Crm_Cd_Desc\n",
       "0       624                           BATTERY - SIMPLE ASSAULT\n",
       "2       745           VANDALISM - MISDEAMEANOR ($399 OR UNDER)\n",
       "3       740  VANDALISM - FELONY ($400 & OVER, ALL CHURCH VA...\n",
       "4       442           SHOPLIFTING - PETTY THEFT ($950 & UNDER)\n",
       "5       946                          OTHER MISCELLANEOUS CRIME\n",
       "6       341  THEFT-GRAND ($950.01 & OVER)EXCPT,GUNS,FOWL,LI...\n",
       "7       330                              BURGLARY FROM VEHICLE\n",
       "8       930             CRIMINAL THREATS - NO WEAPON DISPLAYED\n",
       "10      648                                              ARSON\n",
       "12      230     ASSAULT WITH DEADLY WEAPON, AGGRAVATED ASSAULT\n",
       "16      350                                      THEFT, PERSON\n",
       "19      310                                           BURGLARY\n",
       "22      480                                      BIKE - STOLEN\n",
       "24      623                            BATTERY POLICE (SIMPLE)\n",
       "26      440                 THEFT PLAIN - PETTY ($950 & UNDER)\n",
       "35      510                                   VEHICLE - STOLEN\n",
       "39      210                                            ROBBERY\n",
       "47      888                                        TRESPASSING\n",
       "63      761                                    BRANDISH WEAPON\n",
       "69      420    THEFT FROM MOTOR VEHICLE - PETTY ($950 & UNDER)\n",
       "108     421                 THEFT FROM MOTOR VEHICLE - ATTEMPT\n",
       "112     647                  THROWING OBJECT AT MOVING VEHICLE\n",
       "127     354                                  THEFT OF IDENTITY\n",
       "132     662                                 BUNCO, GRAND THEFT\n",
       "162     220                                  ATTEMPTED ROBBERY\n",
       "164     625                                      OTHER ASSAULT\n",
       "166     755                                         BOMB SCARE\n",
       "214     900                           VIOLATION OF COURT ORDER\n",
       "231     320                                BURGLARY, ATTEMPTED\n",
       "266     901                     VIOLATION OF RESTRAINING ORDER\n",
       "294     956            LETTERS, LEWD  -  TELEPHONE CALLS, LEWD\n",
       "339     920                         KIDNAPPING - GRAND ATTEMPT\n",
       "358     850                                  INDECENT EXPOSURE\n",
       "364     666                                     BUNCO, ATTEMPT\n",
       "380     351                                    PURSE SNATCHING\n",
       "395     343           SHOPLIFTING-GRAND THEFT ($950.01 & OVER)\n",
       "446     890                                   FAILURE TO YIELD\n",
       "450     886                               DISTURBING THE PEACE\n",
       "452     649                   DOCUMENT FORGERY / STOLEN FELONY\n",
       "483     820                                    ORAL COPULATION\n",
       "490     812  CRM AGNST CHLD (13 OR UNDER) (14-15 & SUSP 10 ...\n",
       "491     940                                          EXTORTION"
      ]
     },
     "execution_count": 10,
     "metadata": {},
     "output_type": "execute_result"
    }
   ],
   "source": [
    "#crime codes and their description\n",
    "distinct_crime_codes = df[['Crm_Cd', 'Crm_Cd_Desc']].drop_duplicates()\n",
    "distinct_crime_codes"
   ]
  },
  {
   "cell_type": "code",
   "execution_count": 11,
   "id": "422ea4b6",
   "metadata": {},
   "outputs": [
    {
     "data": {
      "image/png": "[encoded data removed]",
      "text/plain": [
       "<Figure size 1200x600 with 3 Axes>"
      ]
     },
     "metadata": {},
     "output_type": "display_data"
    }
   ],
   "source": [
    "#Temporal analysis\n",
    "# Convert 'Date' column to datetime type\n",
    "df['Date_Rptd'] = pd.to_datetime(df['Date_Rptd'])\n",
    "\n",
    "# Extract year, month, day of week from the 'Date' column\n",
    "df['Year'] = df['Date_Rptd'].dt.year\n",
    "df['Month'] = df['Date_Rptd'].dt.month\n",
    "df['Day_of_Week'] = df['Date_Rptd'].dt.dayofweek  # Monday=0, Sunday=6\n",
    "\n",
    "# Group by year and count the number of crimes\n",
    "crimes_by_year = df.groupby('Year').size()\n",
    "\n",
    "# Group by month and count the number of crimes\n",
    "crimes_by_month = df.groupby('Month').size()\n",
    "\n",
    "# Group by day of week and count the number of crimes\n",
    "crimes_by_dayofweek = df.groupby('Day_of_Week').size()\n",
    "\n",
    "# Plotting\n",
    "plt.figure(figsize=(12, 6))\n",
    "\n",
    "plt.subplot(2, 2, 1)\n",
    "crimes_by_year.plot(kind='line', marker='o', title='Crimes by Year')\n",
    "\n",
    "plt.subplot(2, 2, 2)\n",
    "crimes_by_month.plot(kind='bar', title='Crimes by Month')\n",
    "plt.xticks(range(1, 13), ['Jan', 'Feb', 'Mar', 'Apr', 'May', 'Jun', 'Jul', 'Aug', 'Sep', 'Oct', 'Nov', 'Dec'])\n",
    "\n",
    "plt.subplot(2, 2, 3)\n",
    "crimes_by_dayofweek.plot(kind='bar', title='Crimes by Day of Week')\n",
    "plt.xticks(range(7), ['Mon', 'Tue', 'Wed', 'Thu', 'Fri', 'Sat', 'Sun'])\n",
    "\n",
    "plt.tight_layout()\n",
    "plt.show()\n"
   ]
  },
  {
   "cell_type": "code",
   "execution_count": 25,
   "id": "b0440125",
   "metadata": {},
   "outputs": [
    {
     "data": {
      "image/png": "[encoded data removed]",
      "text/plain": [
       "<Figure size 1000x800 with 1 Axes>"
      ]
     },
     "metadata": {},
     "output_type": "display_data"
    },
    {
     "data": {
      "application/vnd.plotly.v1+json": {
       "config": {
        "plotlyServerURL": "https://plot.ly"
       },
       "data": [
        {
         "hovertemplate": "LON=%{x}<br>LAT=%{y}<extra></extra>",
         "legendgroup": "",
         "marker": {
          "color": "#636efa",
          "symbol": "circle"
         },
         "mode": "markers",
         "name": "",
         "orientation": "v",
         "showlegend": false,
         "type": "scatter",
         "x": [
          -118.3,
          -118.25,
          -118.4,
          -118.45,
          -118.26,
          -118.25,
          -118.24,
          -118.26,
          -118.24,
          -118.26,
          -118.26,
          -118.24,
          -118.25,
          -118.26,
          -118.25,
          -118.26,
          -118.25,
          -118.25,
          -118.26,
          -118.24,
          -118.25,
          -118.26,
          -118.27,
          -118.24,
          -118.25,
          -118.25,
          -118.26,
          -118.25,
          -118.25,
          -118.24,
          -118.25,
          -118.26,
          -118.23,
          -118.26,
          -118.24,
          -118.25,
          -118.25,
          -118.25,
          -118.26,
          -118.26,
          -118.25,
          -118.26,
          -118.24,
          -118.25,
          -118.24,
          -118.24,
          -118.26,
          -118.24,
          -118.24,
          -118.26,
          -118.25,
          -118.24,
          -118.24,
          -118.26,
          -118.26,
          -118.24,
          -118.26,
          -118.24,
          -118.25,
          -118.25,
          -118.24,
          -118.27,
          -118.26,
          -118.25,
          -118.24,
          -118.25,
          -118.26,
          -118.26,
          -118.24,
          -118.26,
          -118.24,
          -118.25,
          -118.24,
          -118.23,
          -118.26,
          -118.26,
          -118.26,
          -118.25,
          -118.24,
          -118.25,
          -118.26,
          -118.26,
          -118.24,
          -118.23,
          -118.26,
          -118.25,
          -118.26,
          -118.25,
          -118.25,
          -118.26,
          -118.24,
          -118.25,
          -118.25,
          -118.25,
          -118.23,
          -118.26,
          -118.25,
          -118.25,
          -118.24,
          -118.25,
          -118.26,
          -118.24,
          -118.25,
          -118.25,
          -118.25,
          -118.27,
          -118.24,
          -118.25,
          -118.25,
          -118.24,
          -118.24,
          -118.24,
          -118.26,
          -118.25,
          -118.26,
          -118.26,
          -118.26,
          -118.25,
          -118.25,
          -118.24,
          -118.24,
          -118.25,
          -118.24,
          -118.23,
          -118.26,
          -118.24,
          -118.25,
          -118.26,
          -118.25,
          -118.25,
          -118.25,
          -118.26,
          -118.26,
          -118.26,
          -118.26,
          -118.25,
          -118.26,
          -118.26,
          -118.27,
          -118.24,
          -118.26,
          -118.25,
          -118.25,
          -118.24,
          -118.27,
          -118.25,
          -118.26,
          -118.24,
          -118.25,
          -118.24,
          -118.27,
          -118.26,
          -118.26,
          -118.27,
          -118.26,
          -118.24,
          -118.26,
          -118.24,
          -118.23,
          -118.23,
          -118.23,
          -118.26,
          -118.24,
          -118.25,
          -118.25,
          -118.27,
          -118.27,
          -118.26,
          -118.25,
          -118.26,
          -118.26,
          -118.25,
          -118.24,
          -118.25,
          -118.26,
          -118.26,
          -118.24,
          -118.24,
          -118.25,
          -118.27,
          -118.24,
          -118.24,
          -118.26,
          -118.27,
          -118.24,
          -118.24,
          -118.26,
          -118.25,
          -118.26,
          -118.24,
          -118.25,
          -118.26,
          -118.23,
          -118.24,
          -118.24,
          -118.26,
          -118.27,
          -118.26,
          -118.24,
          -118.24,
          -118.26,
          -118.26,
          -118.26,
          -118.25,
          -118.26,
          -118.26,
          -118.25,
          -118.24,
          -118.25,
          -118.24,
          -118.26,
          -118.27,
          -118.23,
          -118.24,
          -118.25,
          -118.24,
          -118.24,
          -118.25,
          -118.26,
          -118.24,
          -118.26,
          -118.25,
          -118.23,
          -118.24,
          -118.24,
          -118.24,
          -118.26,
          -118.27,
          -118.25,
          -118.26,
          -118.25,
          -118.24,
          -118.27,
          -118.24,
          -118.25,
          -118.24,
          -118.25,
          -118.25,
          -118.24,
          -118.25,
          -118.27,
          -118.23,
          -118.26,
          -118.25,
          -118.26,
          -118.24,
          -118.24,
          -118.26,
          -118.25,
          -118.25,
          -118.23,
          -118.24,
          -118.24,
          -118.26,
          -118.25,
          -118.25,
          -118.24,
          -118.27,
          -118.24,
          -118.25,
          -118.24,
          -118.26,
          -118.25,
          -118.27,
          -118.26,
          -118.24,
          -118.24,
          -118.24,
          -118.26,
          -118.25,
          -118.24,
          -118.26,
          -118.25,
          -118.26,
          -118.25,
          -118.25,
          -118.26,
          -118.27,
          -118.26,
          -118.26,
          -118.27,
          -118.26,
          -118.25,
          -118.25,
          -118.26,
          -118.24,
          -118.26,
          -118.27,
          -118.26,
          -118.26,
          -118.27,
          -118.25,
          -118.25,
          -118.24,
          -118.24,
          -118.25,
          -118.25,
          -118.23,
          -118.25,
          -118.26,
          -118.25,
          -118.25,
          -118.27,
          -118.25,
          -118.24,
          -118.25,
          -118.24,
          -118.24,
          -118.26,
          -118.25,
          -118.25,
          -118.24,
          -118.24,
          -118.26,
          -118.24,
          -118.26,
          -118.26,
          -118.26,
          -118.26,
          -118.25,
          -118.26,
          -118.26,
          -118.26,
          -118.26,
          -118.27,
          -118.25,
          -118.26,
          -118.23,
          -118.25,
          -118.26,
          -118.26,
          -118.24,
          -118.26,
          -118.25,
          -118.23,
          -118.26,
          -118.25,
          -118.23,
          -118.26,
          -118.24,
          -118.27,
          -118.25,
          -118.25,
          -118.25,
          -118.25,
          -118.25,
          -118.26,
          -118.26,
          -118.26,
          -118.26,
          -118.24,
          -118.26,
          -118.25,
          -118.23,
          -118.24,
          -118.26,
          -118.25,
          -118.24,
          -118.25,
          -118.25,
          -118.25,
          -118.24,
          -118.26,
          -118.25,
          -118.25,
          -118.25,
          -118.26,
          -118.23,
          -118.25,
          -118.26,
          -118.24,
          -118.24,
          -118.26,
          -118.25,
          -118.27,
          -118.23,
          -118.25,
          -118.25,
          -118.25,
          -118.24,
          -118.24,
          -118.25,
          -118.26,
          -118.25,
          -118.26,
          -118.26,
          -118.24,
          -118.26,
          -118.25,
          -118.25,
          -118.24,
          -118.26,
          -118.23,
          -118.26,
          -118.24,
          -118.26,
          -118.24,
          -118.25,
          -118.24,
          -118.25,
          -118.24,
          -118.26,
          -118.24,
          -118.26,
          -118.26,
          -118.26,
          -118.26,
          -118.24,
          -118.26,
          -118.23,
          -118.26,
          -118.25,
          -118.23,
          -118.26,
          -118.26,
          -118.26,
          -118.24,
          -118.24,
          -118.24,
          -118.25,
          -118.26,
          -118.26,
          -118.25,
          -118.25,
          -118.24,
          -118.25,
          -118.28,
          -118.3,
          -118.27,
          -118.27,
          -118.26,
          -118.28,
          -118.26,
          -118.35,
          -118.3,
          -118.3,
          -118.22,
          -118.21,
          -118.2,
          -118.22,
          -118.29,
          -118.31,
          -118.29,
          -118.3,
          -118.29,
          -118.31,
          -118.28,
          -118.29,
          -118.29,
          -118.3,
          -118.29,
          -118.31,
          -118.33,
          -118.3,
          -118.33,
          -118.34,
          -118.33,
          -118.32,
          -118.37,
          -118.35,
          -118.35,
          -118.37,
          -118.44,
          -118.4,
          -118.44,
          -118.38,
          -118.43,
          -118.44,
          -118.45,
          -118.46,
          -118.56,
          -118.56,
          -118.22,
          -118.23,
          -118.19,
          -118.28,
          -118.2,
          -118.22,
          -118.2,
          -118.19,
          -118.19,
          -118.28,
          -118.26,
          -118.32,
          -118.33,
          -118.31,
          -118.31,
          -118.31,
          -118.37,
          -118.26,
          -118.26,
          -118.42,
          -118.24,
          -118.45,
          -118.41,
          -118.36,
          -118.47,
          -118.34,
          -118.3
         ],
         "xaxis": "x",
         "y": [
          34.01,
          34.05,
          34.17,
          34.22,
          34.05,
          34.04,
          34.07,
          34.04,
          34.06,
          34.05,
          34.05,
          34.05,
          34.05,
          34.05,
          34.04,
          34.05,
          34.05,
          34.05,
          34.05,
          34.06,
          34.04,
          34.05,
          34.03,
          34.06,
          34.05,
          34.05,
          34.05,
          34.05,
          34.04,
          34.05,
          34.05,
          34.05,
          34.06,
          34.04,
          34.06,
          34.05,
          34.04,
          34.05,
          34.03,
          34.05,
          34.04,
          34.05,
          34.06,
          34.05,
          34.04,
          34.04,
          34.05,
          34.05,
          34.05,
          34.04,
          34.05,
          34.04,
          34.06,
          34.05,
          34.05,
          34.04,
          34.05,
          34.05,
          34.05,
          34.04,
          34.05,
          34.04,
          34.05,
          34.04,
          34.05,
          34.05,
          34.05,
          34.05,
          34.04,
          34.05,
          34.04,
          34.05,
          34.05,
          34.04,
          34.05,
          34.04,
          34.04,
          34.04,
          34.06,
          34.04,
          34.04,
          34.05,
          34.06,
          34.04,
          34.05,
          34.04,
          34.05,
          34.05,
          34.05,
          34.05,
          34.06,
          34.05,
          34.04,
          34.07,
          34.07,
          34.05,
          34.05,
          34.04,
          34.06,
          34.04,
          34.05,
          34.05,
          34.04,
          34.04,
          34.04,
          34.04,
          34.06,
          34.05,
          34.05,
          34.06,
          34.04,
          34.06,
          34.04,
          34.05,
          34.04,
          34.03,
          34.05,
          34.05,
          34.05,
          34.05,
          34.06,
          34.04,
          34.06,
          34.04,
          34.05,
          34.04,
          34.05,
          34.05,
          34.05,
          34.04,
          34.06,
          34.05,
          34.03,
          34.04,
          34.05,
          34.05,
          34.05,
          34.05,
          34.04,
          34.06,
          34.05,
          34.05,
          34.05,
          34.04,
          34.04,
          34.04,
          34.04,
          34.05,
          34.04,
          34.05,
          34.04,
          34.05,
          34.05,
          34.04,
          34.05,
          34.05,
          34.05,
          34.04,
          34.07,
          34.06,
          34.06,
          34.05,
          34.05,
          34.06,
          34.05,
          34.05,
          34.04,
          34.05,
          34.07,
          34.05,
          34.04,
          34.05,
          34.05,
          34.04,
          34.04,
          34.04,
          34.04,
          34.05,
          34.04,
          34.04,
          34.05,
          34.05,
          34.05,
          34.04,
          34.05,
          34.06,
          34.05,
          34.04,
          34.05,
          34.06,
          34.05,
          34.05,
          34.07,
          34.06,
          34.06,
          34.04,
          34.03,
          34.05,
          34.05,
          34.06,
          34.05,
          34.04,
          34.05,
          34.04,
          34.05,
          34.05,
          34.04,
          34.06,
          34.04,
          34.05,
          34.04,
          34.04,
          34.05,
          34.05,
          34.05,
          34.04,
          34.04,
          34.05,
          34.04,
          34.04,
          34.05,
          34.05,
          34.04,
          34.05,
          34.05,
          34.05,
          34.05,
          34.04,
          34.04,
          34.04,
          34.05,
          34.06,
          34.04,
          34.04,
          34.05,
          34.04,
          34.05,
          34.04,
          34.05,
          34.05,
          34.04,
          34.07,
          34.03,
          34.06,
          34.04,
          34.06,
          34.05,
          34.05,
          34.05,
          34.05,
          34.06,
          34.06,
          34.06,
          34.05,
          34.07,
          34.05,
          34.04,
          34.04,
          34.06,
          34.05,
          34.04,
          34.04,
          34.05,
          34.04,
          34.04,
          34.05,
          34.06,
          34.05,
          34.05,
          34.04,
          34.04,
          34.05,
          34.05,
          34.05,
          34.05,
          34.05,
          34.05,
          34.04,
          34.05,
          34.05,
          34.05,
          34.05,
          34.05,
          34.05,
          34.04,
          34.06,
          34.04,
          34.05,
          34.05,
          34.05,
          34.04,
          34.05,
          34.05,
          34.06,
          34.05,
          34.04,
          34.04,
          34.05,
          34.06,
          34.04,
          34.04,
          34.04,
          34.04,
          34.05,
          34.05,
          34.04,
          34.06,
          34.06,
          34.05,
          34.05,
          34.04,
          34.06,
          34.06,
          34.04,
          34.06,
          34.05,
          34.05,
          34.05,
          34.05,
          34.05,
          34.05,
          34.04,
          34.05,
          34.05,
          34.04,
          34.04,
          34.04,
          34.05,
          34.05,
          34.04,
          34.04,
          34.05,
          34.05,
          34.05,
          34.06,
          34.04,
          34.05,
          34.05,
          34.04,
          34.05,
          34.04,
          34.05,
          34.06,
          34.04,
          34.05,
          34.05,
          34.05,
          34.04,
          34.04,
          34.05,
          34.05,
          34.04,
          34.05,
          34.05,
          34.05,
          34.05,
          34.04,
          34.06,
          34.05,
          34.05,
          34.04,
          34.05,
          34.05,
          34.05,
          34.05,
          34.05,
          34.04,
          34.06,
          34.05,
          34.04,
          34.06,
          34.06,
          34.05,
          34.04,
          34.04,
          34.05,
          34.04,
          34.05,
          34.04,
          34.05,
          34.06,
          34.05,
          34.05,
          34.05,
          34.05,
          34.05,
          34.06,
          34.05,
          34.05,
          34.04,
          34.06,
          34.04,
          34.07,
          34.04,
          34.04,
          34.05,
          34.04,
          34.04,
          34.04,
          34.04,
          34.07,
          34.05,
          34.05,
          34.05,
          34.05,
          34.05,
          34.05,
          34.06,
          34.05,
          34.07,
          34.05,
          34.04,
          34.07,
          34.05,
          34.05,
          34.05,
          34.04,
          34.06,
          34.04,
          34.05,
          34.05,
          34.05,
          34.05,
          34.05,
          34.05,
          34.05,
          34.05,
          34.08,
          34.06,
          34.06,
          34.05,
          34.07,
          34.06,
          34.02,
          34.01,
          34.02,
          34.07,
          34.04,
          34.02,
          34.08,
          33.79,
          33.85,
          33.74,
          33.75,
          33.74,
          33.78,
          33.78,
          33.72,
          33.74,
          33.8,
          33.71,
          33.81,
          34.1,
          34.1,
          34.1,
          34.1,
          34.1,
          34.1,
          34.07,
          34.08,
          34.09,
          34.08,
          34.05,
          34.04,
          34.08,
          34.06,
          34.2,
          34.16,
          34.18,
          34.2,
          34.21,
          34.21,
          34.14,
          34.14,
          34.12,
          34.09,
          34.13,
          34.11,
          34.14,
          34.11,
          34.11,
          34.09,
          34.08,
          33.98,
          33.98,
          33.99,
          33.99,
          33.99,
          34.23,
          33.96,
          34.06,
          34.11,
          34.11,
          34.01,
          34.21,
          34.27,
          34.28,
          34.06,
          34.05
         ],
         "yaxis": "y"
        }
       ],
       "layout": {
        "legend": {
         "tracegroupgap": 0
        },
        "template": {
         "data": {
          "bar": [
           {
            "error_x": {
             "color": "#2a3f5f"
            },
            "error_y": {
             "color": "#2a3f5f"
            },
            "marker": {
             "line": {
              "color": "#E5ECF6",
              "width": 0.5
             },
             "pattern": {
              "fillmode": "overlay",
              "size": 10,
              "solidity": 0.2
             }
            },
            "type": "bar"
           }
          ],
          "barpolar": [
           {
            "marker": {
             "line": {
              "color": "#E5ECF6",
              "width": 0.5
             },
             "pattern": {
              "fillmode": "overlay",
              "size": 10,
              "solidity": 0.2
             }
            },
            "type": "barpolar"
           }
          ],
          "carpet": [
           {
            "aaxis": {
             "endlinecolor": "#2a3f5f",
             "gridcolor": "white",
             "linecolor": "white",
             "minorgridcolor": "white",
             "startlinecolor": "#2a3f5f"
            },
            "baxis": {
             "endlinecolor": "#2a3f5f",
             "gridcolor": "white",
             "linecolor": "white",
             "minorgridcolor": "white",
             "startlinecolor": "#2a3f5f"
            },
            "type": "carpet"
           }
          ],
          "choropleth": [
           {
            "colorbar": {
             "outlinewidth": 0,
             "ticks": ""
            },
            "type": "choropleth"
           }
          ],
          "contour": [
           {
            "colorbar": {
             "outlinewidth": 0,
             "ticks": ""
            },
            "colorscale": [
             [
              0,
              "#0d0887"
             ],
             [
              0.1111111111111111,
              "#46039f"
             ],
             [
              0.2222222222222222,
              "#7201a8"
             ],
             [
              0.3333333333333333,
              "#9c179e"
             ],
             [
              0.4444444444444444,
              "#bd3786"
             ],
             [
              0.5555555555555556,
              "#d8576b"
             ],
             [
              0.6666666666666666,
              "#ed7953"
             ],
             [
              0.7777777777777778,
              "#fb9f3a"
             ],
             [
              0.8888888888888888,
              "#fdca26"
             ],
             [
              1,
              "#f0f921"
             ]
            ],
            "type": "contour"
           }
          ],
          "contourcarpet": [
           {
            "colorbar": {
             "outlinewidth": 0,
             "ticks": ""
            },
            "type": "contourcarpet"
           }
          ],
          "heatmap": [
           {
            "colorbar": {
             "outlinewidth": 0,
             "ticks": ""
            },
            "colorscale": [
             [
              0,
              "#0d0887"
             ],
             [
              0.1111111111111111,
              "#46039f"
             ],
             [
              0.2222222222222222,
              "#7201a8"
             ],
             [
              0.3333333333333333,
              "#9c179e"
             ],
             [
              0.4444444444444444,
              "#bd3786"
             ],
             [
              0.5555555555555556,
              "#d8576b"
             ],
             [
              0.6666666666666666,
              "#ed7953"
             ],
             [
              0.7777777777777778,
              "#fb9f3a"
             ],
             [
              0.8888888888888888,
              "#fdca26"
             ],
             [
              1,
              "#f0f921"
             ]
            ],
            "type": "heatmap"
           }
          ],
          "heatmapgl": [
           {
            "colorbar": {
             "outlinewidth": 0,
             "ticks": ""
            },
            "colorscale": [
             [
              0,
              "#0d0887"
             ],
             [
              0.1111111111111111,
              "#46039f"
             ],
             [
              0.2222222222222222,
              "#7201a8"
             ],
             [
              0.3333333333333333,
              "#9c179e"
             ],
             [
              0.4444444444444444,
              "#bd3786"
             ],
             [
              0.5555555555555556,
              "#d8576b"
             ],
             [
              0.6666666666666666,
              "#ed7953"
             ],
             [
              0.7777777777777778,
              "#fb9f3a"
             ],
             [
              0.8888888888888888,
              "#fdca26"
             ],
             [
              1,
              "#f0f921"
             ]
            ],
            "type": "heatmapgl"
           }
          ],
          "histogram": [
           {
            "marker": {
             "pattern": {
              "fillmode": "overlay",
              "size": 10,
              "solidity": 0.2
             }
            },
            "type": "histogram"
           }
          ],
          "histogram2d": [
           {
            "colorbar": {
             "outlinewidth": 0,
             "ticks": ""
            },
            "colorscale": [
             [
              0,
              "#0d0887"
             ],
             [
              0.1111111111111111,
              "#46039f"
             ],
             [
              0.2222222222222222,
              "#7201a8"
             ],
             [
              0.3333333333333333,
              "#9c179e"
             ],
             [
              0.4444444444444444,
              "#bd3786"
             ],
             [
              0.5555555555555556,
              "#d8576b"
             ],
             [
              0.6666666666666666,
              "#ed7953"
             ],
             [
              0.7777777777777778,
              "#fb9f3a"
             ],
             [
              0.8888888888888888,
              "#fdca26"
             ],
             [
              1,
              "#f0f921"
             ]
            ],
            "type": "histogram2d"
           }
          ],
          "histogram2dcontour": [
           {
            "colorbar": {
             "outlinewidth": 0,
             "ticks": ""
            },
            "colorscale": [
             [
              0,
              "#0d0887"
             ],
             [
              0.1111111111111111,
              "#46039f"
             ],
             [
              0.2222222222222222,
              "#7201a8"
             ],
             [
              0.3333333333333333,
              "#9c179e"
             ],
             [
              0.4444444444444444,
              "#bd3786"
             ],
             [
              0.5555555555555556,
              "#d8576b"
             ],
             [
              0.6666666666666666,
              "#ed7953"
             ],
             [
              0.7777777777777778,
              "#fb9f3a"
             ],
             [
              0.8888888888888888,
              "#fdca26"
             ],
             [
              1,
              "#f0f921"
             ]
            ],
            "type": "histogram2dcontour"
           }
          ],
          "mesh3d": [
           {
            "colorbar": {
             "outlinewidth": 0,
             "ticks": ""
            },
            "type": "mesh3d"
           }
          ],
          "parcoords": [
           {
            "line": {
             "colorbar": {
              "outlinewidth": 0,
              "ticks": ""
             }
            },
            "type": "parcoords"
           }
          ],
          "pie": [
           {
            "automargin": true,
            "type": "pie"
           }
          ],
          "scatter": [
           {
            "fillpattern": {
             "fillmode": "overlay",
             "size": 10,
             "solidity": 0.2
            },
            "type": "scatter"
           }
          ],
          "scatter3d": [
           {
            "line": {
             "colorbar": {
              "outlinewidth": 0,
              "ticks": ""
             }
            },
            "marker": {
             "colorbar": {
              "outlinewidth": 0,
              "ticks": ""
             }
            },
            "type": "scatter3d"
           }
          ],
          "scattercarpet": [
           {
            "marker": {
             "colorbar": {
              "outlinewidth": 0,
              "ticks": ""
             }
            },
            "type": "scattercarpet"
           }
          ],
          "scattergeo": [
           {
            "marker": {
             "colorbar": {
              "outlinewidth": 0,
              "ticks": ""
             }
            },
            "type": "scattergeo"
           }
          ],
          "scattergl": [
           {
            "marker": {
             "colorbar": {
              "outlinewidth": 0,
              "ticks": ""
             }
            },
            "type": "scattergl"
           }
          ],
          "scattermapbox": [
           {
            "marker": {
             "colorbar": {
              "outlinewidth": 0,
              "ticks": ""
             }
            },
            "type": "scattermapbox"
           }
          ],
          "scatterpolar": [
           {
            "marker": {
             "colorbar": {
              "outlinewidth": 0,
              "ticks": ""
             }
            },
            "type": "scatterpolar"
           }
          ],
          "scatterpolargl": [
           {
            "marker": {
             "colorbar": {
              "outlinewidth": 0,
              "ticks": ""
             }
            },
            "type": "scatterpolargl"
           }
          ],
          "scatterternary": [
           {
            "marker": {
             "colorbar": {
              "outlinewidth": 0,
              "ticks": ""
             }
            },
            "type": "scatterternary"
           }
          ],
          "surface": [
           {
            "colorbar": {
             "outlinewidth": 0,
             "ticks": ""
            },
            "colorscale": [
             [
              0,
              "#0d0887"
             ],
             [
              0.1111111111111111,
              "#46039f"
             ],
             [
              0.2222222222222222,
              "#7201a8"
             ],
             [
              0.3333333333333333,
              "#9c179e"
             ],
             [
              0.4444444444444444,
              "#bd3786"
             ],
             [
              0.5555555555555556,
              "#d8576b"
             ],
             [
              0.6666666666666666,
              "#ed7953"
             ],
             [
              0.7777777777777778,
              "#fb9f3a"
             ],
             [
              0.8888888888888888,
              "#fdca26"
             ],
             [
              1,
              "#f0f921"
             ]
            ],
            "type": "surface"
           }
          ],
          "table": [
           {
            "cells": {
             "fill": {
              "color": "#EBF0F8"
             },
             "line": {
              "color": "white"
             }
            },
            "header": {
             "fill": {
              "color": "#C8D4E3"
             },
             "line": {
              "color": "white"
             }
            },
            "type": "table"
           }
          ]
         },
         "layout": {
          "annotationdefaults": {
           "arrowcolor": "#2a3f5f",
           "arrowhead": 0,
           "arrowwidth": 1
          },
          "autotypenumbers": "strict",
          "coloraxis": {
           "colorbar": {
            "outlinewidth": 0,
            "ticks": ""
           }
          },
          "colorscale": {
           "diverging": [
            [
             0,
             "#8e0152"
            ],
            [
             0.1,
             "#c51b7d"
            ],
            [
             0.2,
             "#de77ae"
            ],
            [
             0.3,
             "#f1b6da"
            ],
            [
             0.4,
             "#fde0ef"
            ],
            [
             0.5,
             "#f7f7f7"
            ],
            [
             0.6,
             "#e6f5d0"
            ],
            [
             0.7,
             "#b8e186"
            ],
            [
             0.8,
             "#7fbc41"
            ],
            [
             0.9,
             "#4d9221"
            ],
            [
             1,
             "#276419"
            ]
           ],
           "sequential": [
            [
             0,
             "#0d0887"
            ],
            [
             0.1111111111111111,
             "#46039f"
            ],
            [
             0.2222222222222222,
             "#7201a8"
            ],
            [
             0.3333333333333333,
             "#9c179e"
            ],
            [
             0.4444444444444444,
             "#bd3786"
            ],
            [
             0.5555555555555556,
             "#d8576b"
            ],
            [
             0.6666666666666666,
             "#ed7953"
            ],
            [
             0.7777777777777778,
             "#fb9f3a"
            ],
            [
             0.8888888888888888,
             "#fdca26"
            ],
            [
             1,
             "#f0f921"
            ]
           ],
           "sequentialminus": [
            [
             0,
             "#0d0887"
            ],
            [
             0.1111111111111111,
             "#46039f"
            ],
            [
             0.2222222222222222,
             "#7201a8"
            ],
            [
             0.3333333333333333,
             "#9c179e"
            ],
            [
             0.4444444444444444,
             "#bd3786"
            ],
            [
             0.5555555555555556,
             "#d8576b"
            ],
            [
             0.6666666666666666,
             "#ed7953"
            ],
            [
             0.7777777777777778,
             "#fb9f3a"
            ],
            [
             0.8888888888888888,
             "#fdca26"
            ],
            [
             1,
             "#f0f921"
            ]
           ]
          },
          "colorway": [
           "#636efa",
           "#EF553B",
           "#00cc96",
           "#ab63fa",
           "#FFA15A",
           "#19d3f3",
           "#FF6692",
           "#B6E880",
           "#FF97FF",
           "#FECB52"
          ],
          "font": {
           "color": "#2a3f5f"
          },
          "geo": {
           "bgcolor": "white",
           "lakecolor": "white",
           "landcolor": "#E5ECF6",
           "showlakes": true,
           "showland": true,
           "subunitcolor": "white"
          },
          "hoverlabel": {
           "align": "left"
          },
          "hovermode": "closest",
          "mapbox": {
           "style": "light"
          },
          "paper_bgcolor": "white",
          "plot_bgcolor": "#E5ECF6",
          "polar": {
           "angularaxis": {
            "gridcolor": "white",
            "linecolor": "white",
            "ticks": ""
           },
           "bgcolor": "#E5ECF6",
           "radialaxis": {
            "gridcolor": "white",
            "linecolor": "white",
            "ticks": ""
           }
          },
          "scene": {
           "xaxis": {
            "backgroundcolor": "#E5ECF6",
            "gridcolor": "white",
            "gridwidth": 2,
            "linecolor": "white",
            "showbackground": true,
            "ticks": "",
            "zerolinecolor": "white"
           },
           "yaxis": {
            "backgroundcolor": "#E5ECF6",
            "gridcolor": "white",
            "gridwidth": 2,
            "linecolor": "white",
            "showbackground": true,
            "ticks": "",
            "zerolinecolor": "white"
           },
           "zaxis": {
            "backgroundcolor": "#E5ECF6",
            "gridcolor": "white",
            "gridwidth": 2,
            "linecolor": "white",
            "showbackground": true,
            "ticks": "",
            "zerolinecolor": "white"
           }
          },
          "shapedefaults": {
           "line": {
            "color": "#2a3f5f"
           }
          },
          "ternary": {
           "aaxis": {
            "gridcolor": "white",
            "linecolor": "white",
            "ticks": ""
           },
           "baxis": {
            "gridcolor": "white",
            "linecolor": "white",
            "ticks": ""
           },
           "bgcolor": "#E5ECF6",
           "caxis": {
            "gridcolor": "white",
            "linecolor": "white",
            "ticks": ""
           }
          },
          "title": {
           "x": 0.05
          },
          "xaxis": {
           "automargin": true,
           "gridcolor": "white",
           "linecolor": "white",
           "ticks": "",
           "title": {
            "standoff": 15
           },
           "zerolinecolor": "white",
           "zerolinewidth": 2
          },
          "yaxis": {
           "automargin": true,
           "gridcolor": "white",
           "linecolor": "white",
           "ticks": "",
           "title": {
            "standoff": 15
           },
           "zerolinecolor": "white",
           "zerolinewidth": 2
          }
         }
        },
        "title": {
         "text": "crime occurences"
        },
        "xaxis": {
         "anchor": "y",
         "domain": [
          0,
          1
         ],
         "title": {
          "text": "LON"
         }
        },
        "yaxis": {
         "anchor": "x",
         "domain": [
          0,
          1
         ],
         "title": {
          "text": "LAT"
         }
        }
       }
      },
      "text/html": [
       "<div>                            <div id=\"2310ebc1-0e23-489f-a216-007583ceb49a\" class=\"plotly-graph-div\" style=\"height:525px; width:100%;\"></div>            <script type=\"text/javascript\">                require([\"plotly\"], function(Plotly) {                    window.PLOTLYENV=window.PLOTLYENV || {};                                    if (document.getElementById(\"2310ebc1-0e23-489f-a216-007583ceb49a\")) {                    Plotly.newPlot(                        \"2310ebc1-0e23-489f-a216-007583ceb49a\",                        [{\"hovertemplate\":\"LON=%{x}<br>LAT=%{y}<extra></extra>\",\"legendgroup\":\"\",\"marker\":{\"color\":\"#636efa\",\"symbol\":\"circle\"},\"mode\":\"markers\",\"name\":\"\",\"orientation\":\"v\",\"showlegend\":false,\"x\":[-118.3,-118.25,-118.4,-118.45,-118.26,-118.25,-118.24,-118.26,-118.24,-118.26,-118.26,-118.24,-118.25,-118.26,-118.25,-118.26,-118.25,-118.25,-118.26,-118.24,-118.25,-118.26,-118.27,-118.24,-118.25,-118.25,-118.26,-118.25,-118.25,-118.24,-118.25,-118.26,-118.23,-118.26,-118.24,-118.25,-118.25,-118.25,-118.26,-118.26,-118.25,-118.26,-118.24,-118.25,-118.24,-118.24,-118.26,-118.24,-118.24,-118.26,-118.25,-118.24,-118.24,-118.26,-118.26,-118.24,-118.26,-118.24,-118.25,-118.25,-118.24,-118.27,-118.26,-118.25,-118.24,-118.25,-118.26,-118.26,-118.24,-118.26,-118.24,-118.25,-118.24,-118.23,-118.26,-118.26,-118.26,-118.25,-118.24,-118.25,-118.26,-118.26,-118.24,-118.23,-118.26,-118.25,-118.26,-118.25,-118.25,-118.26,-118.24,-118.25,-118.25,-118.25,-118.23,-118.26,-118.25,-118.25,-118.24,-118.25,-118.26,-118.24,-118.25,-118.25,-118.25,-118.27,-118.24,-118.25,-118.25,-118.24,-118.24,-118.24,-118.26,-118.25,-118.26,-118.26,-118.26,-118.25,-118.25,-118.24,-118.24,-118.25,-118.24,-118.23,-118.26,-118.24,-118.25,-118.26,-118.25,-118.25,-118.25,-118.26,-118.26,-118.26,-118.26,-118.25,-118.26,-118.26,-118.27,-118.24,-118.26,-118.25,-118.25,-118.24,-118.27,-118.25,-118.26,-118.24,-118.25,-118.24,-118.27,-118.26,-118.26,-118.27,-118.26,-118.24,-118.26,-118.24,-118.23,-118.23,-118.23,-118.26,-118.24,-118.25,-118.25,-118.27,-118.27,-118.26,-118.25,-118.26,-118.26,-118.25,-118.24,-118.25,-118.26,-118.26,-118.24,-118.24,-118.25,-118.27,-118.24,-118.24,-118.26,-118.27,-118.24,-118.24,-118.26,-118.25,-118.26,-118.24,-118.25,-118.26,-118.23,-118.24,-118.24,-118.26,-118.27,-118.26,-118.24,-118.24,-118.26,-118.26,-118.26,-118.25,-118.26,-118.26,-118.25,-118.24,-118.25,-118.24,-118.26,-118.27,-118.23,-118.24,-118.25,-118.24,-118.24,-118.25,-118.26,-118.24,-118.26,-118.25,-118.23,-118.24,-118.24,-118.24,-118.26,-118.27,-118.25,-118.26,-118.25,-118.24,-118.27,-118.24,-118.25,-118.24,-118.25,-118.25,-118.24,-118.25,-118.27,-118.23,-118.26,-118.25,-118.26,-118.24,-118.24,-118.26,-118.25,-118.25,-118.23,-118.24,-118.24,-118.26,-118.25,-118.25,-118.24,-118.27,-118.24,-118.25,-118.24,-118.26,-118.25,-118.27,-118.26,-118.24,-118.24,-118.24,-118.26,-118.25,-118.24,-118.26,-118.25,-118.26,-118.25,-118.25,-118.26,-118.27,-118.26,-118.26,-118.27,-118.26,-118.25,-118.25,-118.26,-118.24,-118.26,-118.27,-118.26,-118.26,-118.27,-118.25,-118.25,-118.24,-118.24,-118.25,-118.25,-118.23,-118.25,-118.26,-118.25,-118.25,-118.27,-118.25,-118.24,-118.25,-118.24,-118.24,-118.26,-118.25,-118.25,-118.24,-118.24,-118.26,-118.24,-118.26,-118.26,-118.26,-118.26,-118.25,-118.26,-118.26,-118.26,-118.26,-118.27,-118.25,-118.26,-118.23,-118.25,-118.26,-118.26,-118.24,-118.26,-118.25,-118.23,-118.26,-118.25,-118.23,-118.26,-118.24,-118.27,-118.25,-118.25,-118.25,-118.25,-118.25,-118.26,-118.26,-118.26,-118.26,-118.24,-118.26,-118.25,-118.23,-118.24,-118.26,-118.25,-118.24,-118.25,-118.25,-118.25,-118.24,-118.26,-118.25,-118.25,-118.25,-118.26,-118.23,-118.25,-118.26,-118.24,-118.24,-118.26,-118.25,-118.27,-118.23,-118.25,-118.25,-118.25,-118.24,-118.24,-118.25,-118.26,-118.25,-118.26,-118.26,-118.24,-118.26,-118.25,-118.25,-118.24,-118.26,-118.23,-118.26,-118.24,-118.26,-118.24,-118.25,-118.24,-118.25,-118.24,-118.26,-118.24,-118.26,-118.26,-118.26,-118.26,-118.24,-118.26,-118.23,-118.26,-118.25,-118.23,-118.26,-118.26,-118.26,-118.24,-118.24,-118.24,-118.25,-118.26,-118.26,-118.25,-118.25,-118.24,-118.25,-118.28,-118.3,-118.27,-118.27,-118.26,-118.28,-118.26,-118.35,-118.3,-118.3,-118.22,-118.21,-118.2,-118.22,-118.29,-118.31,-118.29,-118.3,-118.29,-118.31,-118.28,-118.29,-118.29,-118.3,-118.29,-118.31,-118.33,-118.3,-118.33,-118.34,-118.33,-118.32,-118.37,-118.35,-118.35,-118.37,-118.44,-118.4,-118.44,-118.38,-118.43,-118.44,-118.45,-118.46,-118.56,-118.56,-118.22,-118.23,-118.19,-118.28,-118.2,-118.22,-118.2,-118.19,-118.19,-118.28,-118.26,-118.32,-118.33,-118.31,-118.31,-118.31,-118.37,-118.26,-118.26,-118.42,-118.24,-118.45,-118.41,-118.36,-118.47,-118.34,-118.3],\"xaxis\":\"x\",\"y\":[34.01,34.05,34.17,34.22,34.05,34.04,34.07,34.04,34.06,34.05,34.05,34.05,34.05,34.05,34.04,34.05,34.05,34.05,34.05,34.06,34.04,34.05,34.03,34.06,34.05,34.05,34.05,34.05,34.04,34.05,34.05,34.05,34.06,34.04,34.06,34.05,34.04,34.05,34.03,34.05,34.04,34.05,34.06,34.05,34.04,34.04,34.05,34.05,34.05,34.04,34.05,34.04,34.06,34.05,34.05,34.04,34.05,34.05,34.05,34.04,34.05,34.04,34.05,34.04,34.05,34.05,34.05,34.05,34.04,34.05,34.04,34.05,34.05,34.04,34.05,34.04,34.04,34.04,34.06,34.04,34.04,34.05,34.06,34.04,34.05,34.04,34.05,34.05,34.05,34.05,34.06,34.05,34.04,34.07,34.07,34.05,34.05,34.04,34.06,34.04,34.05,34.05,34.04,34.04,34.04,34.04,34.06,34.05,34.05,34.06,34.04,34.06,34.04,34.05,34.04,34.03,34.05,34.05,34.05,34.05,34.06,34.04,34.06,34.04,34.05,34.04,34.05,34.05,34.05,34.04,34.06,34.05,34.03,34.04,34.05,34.05,34.05,34.05,34.04,34.06,34.05,34.05,34.05,34.04,34.04,34.04,34.04,34.05,34.04,34.05,34.04,34.05,34.05,34.04,34.05,34.05,34.05,34.04,34.07,34.06,34.06,34.05,34.05,34.06,34.05,34.05,34.04,34.05,34.07,34.05,34.04,34.05,34.05,34.04,34.04,34.04,34.04,34.05,34.04,34.04,34.05,34.05,34.05,34.04,34.05,34.06,34.05,34.04,34.05,34.06,34.05,34.05,34.07,34.06,34.06,34.04,34.03,34.05,34.05,34.06,34.05,34.04,34.05,34.04,34.05,34.05,34.04,34.06,34.04,34.05,34.04,34.04,34.05,34.05,34.05,34.04,34.04,34.05,34.04,34.04,34.05,34.05,34.04,34.05,34.05,34.05,34.05,34.04,34.04,34.04,34.05,34.06,34.04,34.04,34.05,34.04,34.05,34.04,34.05,34.05,34.04,34.07,34.03,34.06,34.04,34.06,34.05,34.05,34.05,34.05,34.06,34.06,34.06,34.05,34.07,34.05,34.04,34.04,34.06,34.05,34.04,34.04,34.05,34.04,34.04,34.05,34.06,34.05,34.05,34.04,34.04,34.05,34.05,34.05,34.05,34.05,34.05,34.04,34.05,34.05,34.05,34.05,34.05,34.05,34.04,34.06,34.04,34.05,34.05,34.05,34.04,34.05,34.05,34.06,34.05,34.04,34.04,34.05,34.06,34.04,34.04,34.04,34.04,34.05,34.05,34.04,34.06,34.06,34.05,34.05,34.04,34.06,34.06,34.04,34.06,34.05,34.05,34.05,34.05,34.05,34.05,34.04,34.05,34.05,34.04,34.04,34.04,34.05,34.05,34.04,34.04,34.05,34.05,34.05,34.06,34.04,34.05,34.05,34.04,34.05,34.04,34.05,34.06,34.04,34.05,34.05,34.05,34.04,34.04,34.05,34.05,34.04,34.05,34.05,34.05,34.05,34.04,34.06,34.05,34.05,34.04,34.05,34.05,34.05,34.05,34.05,34.04,34.06,34.05,34.04,34.06,34.06,34.05,34.04,34.04,34.05,34.04,34.05,34.04,34.05,34.06,34.05,34.05,34.05,34.05,34.05,34.06,34.05,34.05,34.04,34.06,34.04,34.07,34.04,34.04,34.05,34.04,34.04,34.04,34.04,34.07,34.05,34.05,34.05,34.05,34.05,34.05,34.06,34.05,34.07,34.05,34.04,34.07,34.05,34.05,34.05,34.04,34.06,34.04,34.05,34.05,34.05,34.05,34.05,34.05,34.05,34.05,34.08,34.06,34.06,34.05,34.07,34.06,34.02,34.01,34.02,34.07,34.04,34.02,34.08,33.79,33.85,33.74,33.75,33.74,33.78,33.78,33.72,33.74,33.8,33.71,33.81,34.1,34.1,34.1,34.1,34.1,34.1,34.07,34.08,34.09,34.08,34.05,34.04,34.08,34.06,34.2,34.16,34.18,34.2,34.21,34.21,34.14,34.14,34.12,34.09,34.13,34.11,34.14,34.11,34.11,34.09,34.08,33.98,33.98,33.99,33.99,33.99,34.23,33.96,34.06,34.11,34.11,34.01,34.21,34.27,34.28,34.06,34.05],\"yaxis\":\"y\",\"type\":\"scatter\"}],                        {\"template\":{\"data\":{\"histogram2dcontour\":[{\"type\":\"histogram2dcontour\",\"colorbar\":{\"outlinewidth\":0,\"ticks\":\"\"},\"colorscale\":[[0.0,\"#0d0887\"],[0.1111111111111111,\"#46039f\"],[0.2222222222222222,\"#7201a8\"],[0.3333333333333333,\"#9c179e\"],[0.4444444444444444,\"#bd3786\"],[0.5555555555555556,\"#d8576b\"],[0.6666666666666666,\"#ed7953\"],[0.7777777777777778,\"#fb9f3a\"],[0.8888888888888888,\"#fdca26\"],[1.0,\"#f0f921\"]]}],\"choropleth\":[{\"type\":\"choropleth\",\"colorbar\":{\"outlinewidth\":0,\"ticks\":\"\"}}],\"histogram2d\":[{\"type\":\"histogram2d\",\"colorbar\":{\"outlinewidth\":0,\"ticks\":\"\"},\"colorscale\":[[0.0,\"#0d0887\"],[0.1111111111111111,\"#46039f\"],[0.2222222222222222,\"#7201a8\"],[0.3333333333333333,\"#9c179e\"],[0.4444444444444444,\"#bd3786\"],[0.5555555555555556,\"#d8576b\"],[0.6666666666666666,\"#ed7953\"],[0.7777777777777778,\"#fb9f3a\"],[0.8888888888888888,\"#fdca26\"],[1.0,\"#f0f921\"]]}],\"heatmap\":[{\"type\":\"heatmap\",\"colorbar\":{\"outlinewidth\":0,\"ticks\":\"\"},\"colorscale\":[[0.0,\"#0d0887\"],[0.1111111111111111,\"#46039f\"],[0.2222222222222222,\"#7201a8\"],[0.3333333333333333,\"#9c179e\"],[0.4444444444444444,\"#bd3786\"],[0.5555555555555556,\"#d8576b\"],[0.6666666666666666,\"#ed7953\"],[0.7777777777777778,\"#fb9f3a\"],[0.8888888888888888,\"#fdca26\"],[1.0,\"#f0f921\"]]}],\"heatmapgl\":[{\"type\":\"heatmapgl\",\"colorbar\":{\"outlinewidth\":0,\"ticks\":\"\"},\"colorscale\":[[0.0,\"#0d0887\"],[0.1111111111111111,\"#46039f\"],[0.2222222222222222,\"#7201a8\"],[0.3333333333333333,\"#9c179e\"],[0.4444444444444444,\"#bd3786\"],[0.5555555555555556,\"#d8576b\"],[0.6666666666666666,\"#ed7953\"],[0.7777777777777778,\"#fb9f3a\"],[0.8888888888888888,\"#fdca26\"],[1.0,\"#f0f921\"]]}],\"contourcarpet\":[{\"type\":\"contourcarpet\",\"colorbar\":{\"outlinewidth\":0,\"ticks\":\"\"}}],\"contour\":[{\"type\":\"contour\",\"colorbar\":{\"outlinewidth\":0,\"ticks\":\"\"},\"colorscale\":[[0.0,\"#0d0887\"],[0.1111111111111111,\"#46039f\"],[0.2222222222222222,\"#7201a8\"],[0.3333333333333333,\"#9c179e\"],[0.4444444444444444,\"#bd3786\"],[0.5555555555555556,\"#d8576b\"],[0.6666666666666666,\"#ed7953\"],[0.7777777777777778,\"#fb9f3a\"],[0.8888888888888888,\"#fdca26\"],[1.0,\"#f0f921\"]]}],\"surface\":[{\"type\":\"surface\",\"colorbar\":{\"outlinewidth\":0,\"ticks\":\"\"},\"colorscale\":[[0.0,\"#0d0887\"],[0.1111111111111111,\"#46039f\"],[0.2222222222222222,\"#7201a8\"],[0.3333333333333333,\"#9c179e\"],[0.4444444444444444,\"#bd3786\"],[0.5555555555555556,\"#d8576b\"],[0.6666666666666666,\"#ed7953\"],[0.7777777777777778,\"#fb9f3a\"],[0.8888888888888888,\"#fdca26\"],[1.0,\"#f0f921\"]]}],\"mesh3d\":[{\"type\":\"mesh3d\",\"colorbar\":{\"outlinewidth\":0,\"ticks\":\"\"}}],\"scatter\":[{\"fillpattern\":{\"fillmode\":\"overlay\",\"size\":10,\"solidity\":0.2},\"type\":\"scatter\"}],\"parcoords\":[{\"type\":\"parcoords\",\"line\":{\"colorbar\":{\"outlinewidth\":0,\"ticks\":\"\"}}}],\"scatterpolargl\":[{\"type\":\"scatterpolargl\",\"marker\":{\"colorbar\":{\"outlinewidth\":0,\"ticks\":\"\"}}}],\"bar\":[{\"error_x\":{\"color\":\"#2a3f5f\"},\"error_y\":{\"color\":\"#2a3f5f\"},\"marker\":{\"line\":{\"color\":\"#E5ECF6\",\"width\":0.5},\"pattern\":{\"fillmode\":\"overlay\",\"size\":10,\"solidity\":0.2}},\"type\":\"bar\"}],\"scattergeo\":[{\"type\":\"scattergeo\",\"marker\":{\"colorbar\":{\"outlinewidth\":0,\"ticks\":\"\"}}}],\"scatterpolar\":[{\"type\":\"scatterpolar\",\"marker\":{\"colorbar\":{\"outlinewidth\":0,\"ticks\":\"\"}}}],\"histogram\":[{\"marker\":{\"pattern\":{\"fillmode\":\"overlay\",\"size\":10,\"solidity\":0.2}},\"type\":\"histogram\"}],\"scattergl\":[{\"type\":\"scattergl\",\"marker\":{\"colorbar\":{\"outlinewidth\":0,\"ticks\":\"\"}}}],\"scatter3d\":[{\"type\":\"scatter3d\",\"line\":{\"colorbar\":{\"outlinewidth\":0,\"ticks\":\"\"}},\"marker\":{\"colorbar\":{\"outlinewidth\":0,\"ticks\":\"\"}}}],\"scattermapbox\":[{\"type\":\"scattermapbox\",\"marker\":{\"colorbar\":{\"outlinewidth\":0,\"ticks\":\"\"}}}],\"scatterternary\":[{\"type\":\"scatterternary\",\"marker\":{\"colorbar\":{\"outlinewidth\":0,\"ticks\":\"\"}}}],\"scattercarpet\":[{\"type\":\"scattercarpet\",\"marker\":{\"colorbar\":{\"outlinewidth\":0,\"ticks\":\"\"}}}],\"carpet\":[{\"aaxis\":{\"endlinecolor\":\"#2a3f5f\",\"gridcolor\":\"white\",\"linecolor\":\"white\",\"minorgridcolor\":\"white\",\"startlinecolor\":\"#2a3f5f\"},\"baxis\":{\"endlinecolor\":\"#2a3f5f\",\"gridcolor\":\"white\",\"linecolor\":\"white\",\"minorgridcolor\":\"white\",\"startlinecolor\":\"#2a3f5f\"},\"type\":\"carpet\"}],\"table\":[{\"cells\":{\"fill\":{\"color\":\"#EBF0F8\"},\"line\":{\"color\":\"white\"}},\"header\":{\"fill\":{\"color\":\"#C8D4E3\"},\"line\":{\"color\":\"white\"}},\"type\":\"table\"}],\"barpolar\":[{\"marker\":{\"line\":{\"color\":\"#E5ECF6\",\"width\":0.5},\"pattern\":{\"fillmode\":\"overlay\",\"size\":10,\"solidity\":0.2}},\"type\":\"barpolar\"}],\"pie\":[{\"automargin\":true,\"type\":\"pie\"}]},\"layout\":{\"autotypenumbers\":\"strict\",\"colorway\":[\"#636efa\",\"#EF553B\",\"#00cc96\",\"#ab63fa\",\"#FFA15A\",\"#19d3f3\",\"#FF6692\",\"#B6E880\",\"#FF97FF\",\"#FECB52\"],\"font\":{\"color\":\"#2a3f5f\"},\"hovermode\":\"closest\",\"hoverlabel\":{\"align\":\"left\"},\"paper_bgcolor\":\"white\",\"plot_bgcolor\":\"#E5ECF6\",\"polar\":{\"bgcolor\":\"#E5ECF6\",\"angularaxis\":{\"gridcolor\":\"white\",\"linecolor\":\"white\",\"ticks\":\"\"},\"radialaxis\":{\"gridcolor\":\"white\",\"linecolor\":\"white\",\"ticks\":\"\"}},\"ternary\":{\"bgcolor\":\"#E5ECF6\",\"aaxis\":{\"gridcolor\":\"white\",\"linecolor\":\"white\",\"ticks\":\"\"},\"baxis\":{\"gridcolor\":\"white\",\"linecolor\":\"white\",\"ticks\":\"\"},\"caxis\":{\"gridcolor\":\"white\",\"linecolor\":\"white\",\"ticks\":\"\"}},\"coloraxis\":{\"colorbar\":{\"outlinewidth\":0,\"ticks\":\"\"}},\"colorscale\":{\"sequential\":[[0.0,\"#0d0887\"],[0.1111111111111111,\"#46039f\"],[0.2222222222222222,\"#7201a8\"],[0.3333333333333333,\"#9c179e\"],[0.4444444444444444,\"#bd3786\"],[0.5555555555555556,\"#d8576b\"],[0.6666666666666666,\"#ed7953\"],[0.7777777777777778,\"#fb9f3a\"],[0.8888888888888888,\"#fdca26\"],[1.0,\"#f0f921\"]],\"sequentialminus\":[[0.0,\"#0d0887\"],[0.1111111111111111,\"#46039f\"],[0.2222222222222222,\"#7201a8\"],[0.3333333333333333,\"#9c179e\"],[0.4444444444444444,\"#bd3786\"],[0.5555555555555556,\"#d8576b\"],[0.6666666666666666,\"#ed7953\"],[0.7777777777777778,\"#fb9f3a\"],[0.8888888888888888,\"#fdca26\"],[1.0,\"#f0f921\"]],\"diverging\":[[0,\"#8e0152\"],[0.1,\"#c51b7d\"],[0.2,\"#de77ae\"],[0.3,\"#f1b6da\"],[0.4,\"#fde0ef\"],[0.5,\"#f7f7f7\"],[0.6,\"#e6f5d0\"],[0.7,\"#b8e186\"],[0.8,\"#7fbc41\"],[0.9,\"#4d9221\"],[1,\"#276419\"]]},\"xaxis\":{\"gridcolor\":\"white\",\"linecolor\":\"white\",\"ticks\":\"\",\"title\":{\"standoff\":15},\"zerolinecolor\":\"white\",\"automargin\":true,\"zerolinewidth\":2},\"yaxis\":{\"gridcolor\":\"white\",\"linecolor\":\"white\",\"ticks\":\"\",\"title\":{\"standoff\":15},\"zerolinecolor\":\"white\",\"automargin\":true,\"zerolinewidth\":2},\"scene\":{\"xaxis\":{\"backgroundcolor\":\"#E5ECF6\",\"gridcolor\":\"white\",\"linecolor\":\"white\",\"showbackground\":true,\"ticks\":\"\",\"zerolinecolor\":\"white\",\"gridwidth\":2},\"yaxis\":{\"backgroundcolor\":\"#E5ECF6\",\"gridcolor\":\"white\",\"linecolor\":\"white\",\"showbackground\":true,\"ticks\":\"\",\"zerolinecolor\":\"white\",\"gridwidth\":2},\"zaxis\":{\"backgroundcolor\":\"#E5ECF6\",\"gridcolor\":\"white\",\"linecolor\":\"white\",\"showbackground\":true,\"ticks\":\"\",\"zerolinecolor\":\"white\",\"gridwidth\":2}},\"shapedefaults\":{\"line\":{\"color\":\"#2a3f5f\"}},\"annotationdefaults\":{\"arrowcolor\":\"#2a3f5f\",\"arrowhead\":0,\"arrowwidth\":1},\"geo\":{\"bgcolor\":\"white\",\"landcolor\":\"#E5ECF6\",\"subunitcolor\":\"white\",\"showland\":true,\"showlakes\":true,\"lakecolor\":\"white\"},\"title\":{\"x\":0.05},\"mapbox\":{\"style\":\"light\"}}},\"xaxis\":{\"anchor\":\"y\",\"domain\":[0.0,1.0],\"title\":{\"text\":\"LON\"}},\"yaxis\":{\"anchor\":\"x\",\"domain\":[0.0,1.0],\"title\":{\"text\":\"LAT\"}},\"legend\":{\"tracegroupgap\":0},\"title\":{\"text\":\"crime occurences\"}},                        {\"responsive\": true}                    ).then(function(){\n",
       "                            \n",
       "var gd = document.getElementById('2310ebc1-0e23-489f-a216-007583ceb49a');\n",
       "var x = new MutationObserver(function (mutations, observer) {{\n",
       "        var display = window.getComputedStyle(gd).display;\n",
       "        if (!display || display === 'none') {{\n",
       "            console.log([gd, 'removed!']);\n",
       "            Plotly.purge(gd);\n",
       "            observer.disconnect();\n",
       "        }}\n",
       "}});\n",
       "\n",
       "// Listen for the removal of the full notebook cells\n",
       "var notebookContainer = gd.closest('#notebook-container');\n",
       "if (notebookContainer) {{\n",
       "    x.observe(notebookContainer, {childList: true});\n",
       "}}\n",
       "\n",
       "// Listen for the clearing of the current output cell\n",
       "var outputEl = gd.closest('.output');\n",
       "if (outputEl) {{\n",
       "    x.observe(outputEl, {childList: true});\n",
       "}}\n",
       "\n",
       "                        })                };                });            </script>        </div>"
      ]
     },
     "metadata": {},
     "output_type": "display_data"
    }
   ],
   "source": [
    "#spatial analysis\n",
    "plt.figure(figsize=(10,8))\n",
    "plt.scatter(df['LON'],df['LAT'],s=15,alpha=0.5,c='blue')\n",
    "plt.xlabel('longitude')\n",
    "plt.ylabel('latitude')\n",
    "plt.title('crime occurences')\n",
    "plt.grid()\n",
    "plt.show()\n",
    "\n",
    "st=px.scatter(df,x='LON',y='LAT',title='crime occurences')\n",
    "st.show()"
   ]
  },
  {
   "cell_type": "code",
   "execution_count": 12,
   "id": "7194b595",
   "metadata": {},
   "outputs": [
    {
     "data": {
      "image/png": "[encoded data removed]",
      "text/plain": [
       "<Figure size 640x480 with 1 Axes>"
      ]
     },
     "metadata": {},
     "output_type": "display_data"
    }
   ],
   "source": [
    "#Distribution of victim ages and gender \n",
    "\n",
    "plt.hist(df[\"Vict_Age\"],color='red')\n",
    "plt.title(\"distribution of victim ages\")\n",
    "plt.xlabel(\"age\")\n",
    "plt.ylabel(\"frequency\")\n",
    "plt.grid(False)\n",
    "plt.show()"
   ]
  },
  {
   "cell_type": "code",
   "execution_count": 13,
   "id": "45620f61",
   "metadata": {},
   "outputs": [
    {
     "data": {
      "image/png": "[encoded data removed]",
      "text/plain": [
       "<Figure size 640x480 with 1 Axes>"
      ]
     },
     "metadata": {},
     "output_type": "display_data"
    }
   ],
   "source": [
    " #Distribution of victim gender \n",
    "plt.hist(df[\"Vict_Sex\"],color='red')\n",
    "plt.title(\"distribution of victim ages\")\n",
    "plt.xlabel(\"Gender\")\n",
    "plt.ylabel(\"frequency\")\n",
    "plt.grid(False)\n",
    "plt.show()"
   ]
  },
  {
   "cell_type": "code",
   "execution_count": 16,
   "id": "4ee27d98",
   "metadata": {},
   "outputs": [
    {
     "name": "stdout",
     "output_type": "stream",
     "text": [
      "<pymysql.cursors.Cursor object at 0x000002F1B0BF6B10>\n"
     ]
    },
    {
     "data": {
      "text/plain": [
       "((14, '800 N ALAMEDA ST'),\n",
       " (11, '700 W 7TH ST'),\n",
       " (6, '1100 S FIGUEROA ST'),\n",
       " (6, '300 E 5TH ST'),\n",
       " (6, '6TH'),\n",
       " (5, '500 S SAN PEDRO ST'),\n",
       " (5, '100 E 5TH ST'),\n",
       " (5, '7TH ST'))"
      ]
     },
     "execution_count": 16,
     "metadata": {},
     "output_type": "execute_result"
    }
   ],
   "source": [
    "#where do most crimes occur based on location column\n",
    "cur=conn.cursor()\n",
    "print(cur)\n",
    "cur.execute(\"SELECT count(*),Location FROM crimes GROUP BY Location ORDER BY count(*) desc LIMIT 8; \")\n",
    "data=cur.fetchall()\n",
    "data"
   ]
  },
  {
   "cell_type": "code",
   "execution_count": 17,
   "id": "5761cc7a",
   "metadata": {},
   "outputs": [
    {
     "data": {
      "text/html": [
       "<div>\n",
       "<style scoped>\n",
       "    .dataframe tbody tr th:only-of-type {\n",
       "        vertical-align: middle;\n",
       "    }\n",
       "\n",
       "    .dataframe tbody tr th {\n",
       "        vertical-align: top;\n",
       "    }\n",
       "\n",
       "    .dataframe thead th {\n",
       "        text-align: right;\n",
       "    }\n",
       "</style>\n",
       "<table border=\"1\" class=\"dataframe\">\n",
       "  <thead>\n",
       "    <tr style=\"text-align: right;\">\n",
       "      <th></th>\n",
       "      <th>count</th>\n",
       "      <th>location</th>\n",
       "    </tr>\n",
       "  </thead>\n",
       "  <tbody>\n",
       "    <tr>\n",
       "      <th>0</th>\n",
       "      <td>14</td>\n",
       "      <td>800 N ALAMEDA ST</td>\n",
       "    </tr>\n",
       "    <tr>\n",
       "      <th>1</th>\n",
       "      <td>11</td>\n",
       "      <td>700 W 7TH ST</td>\n",
       "    </tr>\n",
       "    <tr>\n",
       "      <th>2</th>\n",
       "      <td>6</td>\n",
       "      <td>1100 S FIGUEROA ST</td>\n",
       "    </tr>\n",
       "    <tr>\n",
       "      <th>3</th>\n",
       "      <td>6</td>\n",
       "      <td>300 E 5TH ST</td>\n",
       "    </tr>\n",
       "    <tr>\n",
       "      <th>4</th>\n",
       "      <td>6</td>\n",
       "      <td>6TH</td>\n",
       "    </tr>\n",
       "    <tr>\n",
       "      <th>5</th>\n",
       "      <td>5</td>\n",
       "      <td>500 S SAN PEDRO ST</td>\n",
       "    </tr>\n",
       "    <tr>\n",
       "      <th>6</th>\n",
       "      <td>5</td>\n",
       "      <td>100 E 5TH ST</td>\n",
       "    </tr>\n",
       "    <tr>\n",
       "      <th>7</th>\n",
       "      <td>5</td>\n",
       "      <td>7TH ST</td>\n",
       "    </tr>\n",
       "  </tbody>\n",
       "</table>\n",
       "</div>"
      ],
      "text/plain": [
       "   count            location\n",
       "0     14    800 N ALAMEDA ST\n",
       "1     11        700 W 7TH ST\n",
       "2      6  1100 S FIGUEROA ST\n",
       "3      6        300 E 5TH ST\n",
       "4      6                 6TH\n",
       "5      5  500 S SAN PEDRO ST\n",
       "6      5        100 E 5TH ST\n",
       "7      5              7TH ST"
      ]
     },
     "execution_count": 17,
     "metadata": {},
     "output_type": "execute_result"
    }
   ],
   "source": [
    "df2=pd.DataFrame(data,columns=['count','location'])\n",
    "df2"
   ]
  },
  {
   "cell_type": "code",
   "execution_count": 18,
   "id": "af3b2f23",
   "metadata": {},
   "outputs": [
    {
     "data": {
      "image/png": "[encoded data removed]",
      "text/plain": [
       "<Figure size 1000x600 with 1 Axes>"
      ]
     },
     "metadata": {},
     "output_type": "display_data"
    }
   ],
   "source": [
    "plt.figure(figsize=(10,6))\n",
    "sns.barplot(df2,x='count',y='location')\n",
    "plt.show()"
   ]
  },
  {
   "cell_type": "code",
   "execution_count": 19,
   "id": "7bbf1d35",
   "metadata": {},
   "outputs": [
    {
     "data": {
      "text/html": [
       "<div>\n",
       "<style scoped>\n",
       "    .dataframe tbody tr th:only-of-type {\n",
       "        vertical-align: middle;\n",
       "    }\n",
       "\n",
       "    .dataframe tbody tr th {\n",
       "        vertical-align: top;\n",
       "    }\n",
       "\n",
       "    .dataframe thead th {\n",
       "        text-align: right;\n",
       "    }\n",
       "</style>\n",
       "<table border=\"1\" class=\"dataframe\">\n",
       "  <thead>\n",
       "    <tr style=\"text-align: right;\">\n",
       "      <th></th>\n",
       "      <th>Crm_Cd</th>\n",
       "      <th>Crm_Cd_Desc</th>\n",
       "      <th>total</th>\n",
       "    </tr>\n",
       "  </thead>\n",
       "  <tbody>\n",
       "    <tr>\n",
       "      <th>0</th>\n",
       "      <td>890</td>\n",
       "      <td>FAILURE TO YIELD</td>\n",
       "      <td>1</td>\n",
       "    </tr>\n",
       "    <tr>\n",
       "      <th>1</th>\n",
       "      <td>920</td>\n",
       "      <td>KIDNAPPING - GRAND ATTEMPT</td>\n",
       "      <td>1</td>\n",
       "    </tr>\n",
       "    <tr>\n",
       "      <th>2</th>\n",
       "      <td>666</td>\n",
       "      <td>BUNCO, ATTEMPT</td>\n",
       "      <td>1</td>\n",
       "    </tr>\n",
       "    <tr>\n",
       "      <th>3</th>\n",
       "      <td>343</td>\n",
       "      <td>SHOPLIFTING-GRAND THEFT ($950.01 &amp; OVER)</td>\n",
       "      <td>1</td>\n",
       "    </tr>\n",
       "    <tr>\n",
       "      <th>4</th>\n",
       "      <td>649</td>\n",
       "      <td>DOCUMENT FORGERY / STOLEN FELONY</td>\n",
       "      <td>1</td>\n",
       "    </tr>\n",
       "    <tr>\n",
       "      <th>5</th>\n",
       "      <td>755</td>\n",
       "      <td>BOMB SCARE</td>\n",
       "      <td>1</td>\n",
       "    </tr>\n",
       "    <tr>\n",
       "      <th>6</th>\n",
       "      <td>647</td>\n",
       "      <td>THROWING OBJECT AT MOVING VEHICLE</td>\n",
       "      <td>1</td>\n",
       "    </tr>\n",
       "    <tr>\n",
       "      <th>7</th>\n",
       "      <td>820</td>\n",
       "      <td>ORAL COPULATION</td>\n",
       "      <td>1</td>\n",
       "    </tr>\n",
       "    <tr>\n",
       "      <th>8</th>\n",
       "      <td>812</td>\n",
       "      <td>CRM AGNST CHLD (13 OR UNDER) (14-15 &amp; SUSP 10 ...</td>\n",
       "      <td>1</td>\n",
       "    </tr>\n",
       "    <tr>\n",
       "      <th>9</th>\n",
       "      <td>940</td>\n",
       "      <td>EXTORTION</td>\n",
       "      <td>1</td>\n",
       "    </tr>\n",
       "    <tr>\n",
       "      <th>10</th>\n",
       "      <td>421</td>\n",
       "      <td>THEFT FROM MOTOR VEHICLE - ATTEMPT</td>\n",
       "      <td>1</td>\n",
       "    </tr>\n",
       "    <tr>\n",
       "      <th>11</th>\n",
       "      <td>956</td>\n",
       "      <td>LETTERS, LEWD  -  TELEPHONE CALLS, LEWD</td>\n",
       "      <td>2</td>\n",
       "    </tr>\n",
       "    <tr>\n",
       "      <th>12</th>\n",
       "      <td>850</td>\n",
       "      <td>INDECENT EXPOSURE</td>\n",
       "      <td>2</td>\n",
       "    </tr>\n",
       "    <tr>\n",
       "      <th>13</th>\n",
       "      <td>351</td>\n",
       "      <td>PURSE SNATCHING</td>\n",
       "      <td>2</td>\n",
       "    </tr>\n",
       "    <tr>\n",
       "      <th>14</th>\n",
       "      <td>886</td>\n",
       "      <td>DISTURBING THE PEACE</td>\n",
       "      <td>2</td>\n",
       "    </tr>\n",
       "    <tr>\n",
       "      <th>15</th>\n",
       "      <td>625</td>\n",
       "      <td>OTHER ASSAULT</td>\n",
       "      <td>2</td>\n",
       "    </tr>\n",
       "    <tr>\n",
       "      <th>16</th>\n",
       "      <td>900</td>\n",
       "      <td>VIOLATION OF COURT ORDER</td>\n",
       "      <td>2</td>\n",
       "    </tr>\n",
       "    <tr>\n",
       "      <th>17</th>\n",
       "      <td>320</td>\n",
       "      <td>BURGLARY, ATTEMPTED</td>\n",
       "      <td>2</td>\n",
       "    </tr>\n",
       "    <tr>\n",
       "      <th>18</th>\n",
       "      <td>648</td>\n",
       "      <td>ARSON</td>\n",
       "      <td>3</td>\n",
       "    </tr>\n",
       "    <tr>\n",
       "      <th>19</th>\n",
       "      <td>901</td>\n",
       "      <td>VIOLATION OF RESTRAINING ORDER</td>\n",
       "      <td>3</td>\n",
       "    </tr>\n",
       "    <tr>\n",
       "      <th>20</th>\n",
       "      <td>946</td>\n",
       "      <td>OTHER MISCELLANEOUS CRIME</td>\n",
       "      <td>4</td>\n",
       "    </tr>\n",
       "    <tr>\n",
       "      <th>21</th>\n",
       "      <td>220</td>\n",
       "      <td>ATTEMPTED ROBBERY</td>\n",
       "      <td>4</td>\n",
       "    </tr>\n",
       "    <tr>\n",
       "      <th>22</th>\n",
       "      <td>623</td>\n",
       "      <td>BATTERY POLICE (SIMPLE)</td>\n",
       "      <td>5</td>\n",
       "    </tr>\n",
       "    <tr>\n",
       "      <th>23</th>\n",
       "      <td>761</td>\n",
       "      <td>BRANDISH WEAPON</td>\n",
       "      <td>5</td>\n",
       "    </tr>\n",
       "    <tr>\n",
       "      <th>24</th>\n",
       "      <td>662</td>\n",
       "      <td>BUNCO, GRAND THEFT</td>\n",
       "      <td>5</td>\n",
       "    </tr>\n",
       "    <tr>\n",
       "      <th>25</th>\n",
       "      <td>930</td>\n",
       "      <td>CRIMINAL THREATS - NO WEAPON DISPLAYED</td>\n",
       "      <td>7</td>\n",
       "    </tr>\n",
       "    <tr>\n",
       "      <th>26</th>\n",
       "      <td>350</td>\n",
       "      <td>THEFT, PERSON</td>\n",
       "      <td>9</td>\n",
       "    </tr>\n",
       "    <tr>\n",
       "      <th>27</th>\n",
       "      <td>420</td>\n",
       "      <td>THEFT FROM MOTOR VEHICLE - PETTY ($950 &amp; UNDER)</td>\n",
       "      <td>9</td>\n",
       "    </tr>\n",
       "    <tr>\n",
       "      <th>28</th>\n",
       "      <td>354</td>\n",
       "      <td>THEFT OF IDENTITY</td>\n",
       "      <td>10</td>\n",
       "    </tr>\n",
       "    <tr>\n",
       "      <th>29</th>\n",
       "      <td>480</td>\n",
       "      <td>BIKE - STOLEN</td>\n",
       "      <td>11</td>\n",
       "    </tr>\n",
       "    <tr>\n",
       "      <th>30</th>\n",
       "      <td>210</td>\n",
       "      <td>ROBBERY</td>\n",
       "      <td>12</td>\n",
       "    </tr>\n",
       "    <tr>\n",
       "      <th>31</th>\n",
       "      <td>310</td>\n",
       "      <td>BURGLARY</td>\n",
       "      <td>16</td>\n",
       "    </tr>\n",
       "    <tr>\n",
       "      <th>32</th>\n",
       "      <td>888</td>\n",
       "      <td>TRESPASSING</td>\n",
       "      <td>19</td>\n",
       "    </tr>\n",
       "    <tr>\n",
       "      <th>33</th>\n",
       "      <td>745</td>\n",
       "      <td>VANDALISM - MISDEAMEANOR ($399 OR UNDER)</td>\n",
       "      <td>23</td>\n",
       "    </tr>\n",
       "    <tr>\n",
       "      <th>34</th>\n",
       "      <td>740</td>\n",
       "      <td>VANDALISM - FELONY ($400 &amp; OVER, ALL CHURCH VA...</td>\n",
       "      <td>23</td>\n",
       "    </tr>\n",
       "    <tr>\n",
       "      <th>35</th>\n",
       "      <td>230</td>\n",
       "      <td>ASSAULT WITH DEADLY WEAPON, AGGRAVATED ASSAULT</td>\n",
       "      <td>24</td>\n",
       "    </tr>\n",
       "    <tr>\n",
       "      <th>36</th>\n",
       "      <td>341</td>\n",
       "      <td>THEFT-GRAND ($950.01 &amp; OVER)EXCPT,GUNS,FOWL,LI...</td>\n",
       "      <td>26</td>\n",
       "    </tr>\n",
       "    <tr>\n",
       "      <th>37</th>\n",
       "      <td>442</td>\n",
       "      <td>SHOPLIFTING - PETTY THEFT ($950 &amp; UNDER)</td>\n",
       "      <td>28</td>\n",
       "    </tr>\n",
       "    <tr>\n",
       "      <th>38</th>\n",
       "      <td>510</td>\n",
       "      <td>VEHICLE - STOLEN</td>\n",
       "      <td>28</td>\n",
       "    </tr>\n",
       "    <tr>\n",
       "      <th>39</th>\n",
       "      <td>440</td>\n",
       "      <td>THEFT PLAIN - PETTY ($950 &amp; UNDER)</td>\n",
       "      <td>44</td>\n",
       "    </tr>\n",
       "    <tr>\n",
       "      <th>40</th>\n",
       "      <td>624</td>\n",
       "      <td>BATTERY - SIMPLE ASSAULT</td>\n",
       "      <td>74</td>\n",
       "    </tr>\n",
       "    <tr>\n",
       "      <th>41</th>\n",
       "      <td>330</td>\n",
       "      <td>BURGLARY FROM VEHICLE</td>\n",
       "      <td>82</td>\n",
       "    </tr>\n",
       "  </tbody>\n",
       "</table>\n",
       "</div>"
      ],
      "text/plain": [
       "    Crm_Cd                                        Crm_Cd_Desc  total\n",
       "0      890                                   FAILURE TO YIELD      1\n",
       "1      920                         KIDNAPPING - GRAND ATTEMPT      1\n",
       "2      666                                     BUNCO, ATTEMPT      1\n",
       "3      343           SHOPLIFTING-GRAND THEFT ($950.01 & OVER)      1\n",
       "4      649                   DOCUMENT FORGERY / STOLEN FELONY      1\n",
       "5      755                                         BOMB SCARE      1\n",
       "6      647                  THROWING OBJECT AT MOVING VEHICLE      1\n",
       "7      820                                    ORAL COPULATION      1\n",
       "8      812  CRM AGNST CHLD (13 OR UNDER) (14-15 & SUSP 10 ...      1\n",
       "9      940                                          EXTORTION      1\n",
       "10     421                 THEFT FROM MOTOR VEHICLE - ATTEMPT      1\n",
       "11     956            LETTERS, LEWD  -  TELEPHONE CALLS, LEWD      2\n",
       "12     850                                  INDECENT EXPOSURE      2\n",
       "13     351                                    PURSE SNATCHING      2\n",
       "14     886                               DISTURBING THE PEACE      2\n",
       "15     625                                      OTHER ASSAULT      2\n",
       "16     900                           VIOLATION OF COURT ORDER      2\n",
       "17     320                                BURGLARY, ATTEMPTED      2\n",
       "18     648                                              ARSON      3\n",
       "19     901                     VIOLATION OF RESTRAINING ORDER      3\n",
       "20     946                          OTHER MISCELLANEOUS CRIME      4\n",
       "21     220                                  ATTEMPTED ROBBERY      4\n",
       "22     623                            BATTERY POLICE (SIMPLE)      5\n",
       "23     761                                    BRANDISH WEAPON      5\n",
       "24     662                                 BUNCO, GRAND THEFT      5\n",
       "25     930             CRIMINAL THREATS - NO WEAPON DISPLAYED      7\n",
       "26     350                                      THEFT, PERSON      9\n",
       "27     420    THEFT FROM MOTOR VEHICLE - PETTY ($950 & UNDER)      9\n",
       "28     354                                  THEFT OF IDENTITY     10\n",
       "29     480                                      BIKE - STOLEN     11\n",
       "30     210                                            ROBBERY     12\n",
       "31     310                                           BURGLARY     16\n",
       "32     888                                        TRESPASSING     19\n",
       "33     745           VANDALISM - MISDEAMEANOR ($399 OR UNDER)     23\n",
       "34     740  VANDALISM - FELONY ($400 & OVER, ALL CHURCH VA...     23\n",
       "35     230     ASSAULT WITH DEADLY WEAPON, AGGRAVATED ASSAULT     24\n",
       "36     341  THEFT-GRAND ($950.01 & OVER)EXCPT,GUNS,FOWL,LI...     26\n",
       "37     442           SHOPLIFTING - PETTY THEFT ($950 & UNDER)     28\n",
       "38     510                                   VEHICLE - STOLEN     28\n",
       "39     440                 THEFT PLAIN - PETTY ($950 & UNDER)     44\n",
       "40     624                           BATTERY - SIMPLE ASSAULT     74\n",
       "41     330                              BURGLARY FROM VEHICLE     82"
      ]
     },
     "execution_count": 19,
     "metadata": {},
     "output_type": "execute_result"
    }
   ],
   "source": [
    "# crime code analysis\n",
    "query4=\"SELECT Crm_Cd,Crm_Cd_Desc,count(*) as total from crimes GROUP BY Crm_Cd,Crm_Cd_Desc ORDER BY total\"\n",
    "df4=pd.read_sql(query4,conn)\n",
    "df4"
   ]
  },
  {
   "cell_type": "code",
   "execution_count": 20,
   "id": "0c3e8e70",
   "metadata": {},
   "outputs": [
    {
     "data": {
      "text/html": [
       "<div>\n",
       "<style scoped>\n",
       "    .dataframe tbody tr th:only-of-type {\n",
       "        vertical-align: middle;\n",
       "    }\n",
       "\n",
       "    .dataframe tbody tr th {\n",
       "        vertical-align: top;\n",
       "    }\n",
       "\n",
       "    .dataframe thead th {\n",
       "        text-align: right;\n",
       "    }\n",
       "</style>\n",
       "<table border=\"1\" class=\"dataframe\">\n",
       "  <thead>\n",
       "    <tr style=\"text-align: right;\">\n",
       "      <th></th>\n",
       "      <th>Crm_Cd</th>\n",
       "      <th>Numbers</th>\n",
       "    </tr>\n",
       "  </thead>\n",
       "  <tbody>\n",
       "    <tr>\n",
       "      <th>0</th>\n",
       "      <td>210</td>\n",
       "      <td>12</td>\n",
       "    </tr>\n",
       "    <tr>\n",
       "      <th>1</th>\n",
       "      <td>220</td>\n",
       "      <td>4</td>\n",
       "    </tr>\n",
       "    <tr>\n",
       "      <th>2</th>\n",
       "      <td>230</td>\n",
       "      <td>24</td>\n",
       "    </tr>\n",
       "    <tr>\n",
       "      <th>3</th>\n",
       "      <td>310</td>\n",
       "      <td>16</td>\n",
       "    </tr>\n",
       "    <tr>\n",
       "      <th>4</th>\n",
       "      <td>320</td>\n",
       "      <td>2</td>\n",
       "    </tr>\n",
       "    <tr>\n",
       "      <th>5</th>\n",
       "      <td>330</td>\n",
       "      <td>82</td>\n",
       "    </tr>\n",
       "    <tr>\n",
       "      <th>6</th>\n",
       "      <td>341</td>\n",
       "      <td>26</td>\n",
       "    </tr>\n",
       "    <tr>\n",
       "      <th>7</th>\n",
       "      <td>343</td>\n",
       "      <td>1</td>\n",
       "    </tr>\n",
       "    <tr>\n",
       "      <th>8</th>\n",
       "      <td>350</td>\n",
       "      <td>9</td>\n",
       "    </tr>\n",
       "    <tr>\n",
       "      <th>9</th>\n",
       "      <td>351</td>\n",
       "      <td>2</td>\n",
       "    </tr>\n",
       "    <tr>\n",
       "      <th>10</th>\n",
       "      <td>354</td>\n",
       "      <td>10</td>\n",
       "    </tr>\n",
       "    <tr>\n",
       "      <th>11</th>\n",
       "      <td>420</td>\n",
       "      <td>9</td>\n",
       "    </tr>\n",
       "    <tr>\n",
       "      <th>12</th>\n",
       "      <td>421</td>\n",
       "      <td>1</td>\n",
       "    </tr>\n",
       "    <tr>\n",
       "      <th>13</th>\n",
       "      <td>440</td>\n",
       "      <td>44</td>\n",
       "    </tr>\n",
       "    <tr>\n",
       "      <th>14</th>\n",
       "      <td>442</td>\n",
       "      <td>28</td>\n",
       "    </tr>\n",
       "    <tr>\n",
       "      <th>15</th>\n",
       "      <td>480</td>\n",
       "      <td>11</td>\n",
       "    </tr>\n",
       "    <tr>\n",
       "      <th>16</th>\n",
       "      <td>510</td>\n",
       "      <td>28</td>\n",
       "    </tr>\n",
       "    <tr>\n",
       "      <th>17</th>\n",
       "      <td>623</td>\n",
       "      <td>5</td>\n",
       "    </tr>\n",
       "    <tr>\n",
       "      <th>18</th>\n",
       "      <td>624</td>\n",
       "      <td>74</td>\n",
       "    </tr>\n",
       "    <tr>\n",
       "      <th>19</th>\n",
       "      <td>625</td>\n",
       "      <td>2</td>\n",
       "    </tr>\n",
       "    <tr>\n",
       "      <th>20</th>\n",
       "      <td>647</td>\n",
       "      <td>1</td>\n",
       "    </tr>\n",
       "    <tr>\n",
       "      <th>21</th>\n",
       "      <td>648</td>\n",
       "      <td>3</td>\n",
       "    </tr>\n",
       "    <tr>\n",
       "      <th>22</th>\n",
       "      <td>649</td>\n",
       "      <td>1</td>\n",
       "    </tr>\n",
       "    <tr>\n",
       "      <th>23</th>\n",
       "      <td>662</td>\n",
       "      <td>5</td>\n",
       "    </tr>\n",
       "    <tr>\n",
       "      <th>24</th>\n",
       "      <td>666</td>\n",
       "      <td>1</td>\n",
       "    </tr>\n",
       "    <tr>\n",
       "      <th>25</th>\n",
       "      <td>740</td>\n",
       "      <td>23</td>\n",
       "    </tr>\n",
       "    <tr>\n",
       "      <th>26</th>\n",
       "      <td>745</td>\n",
       "      <td>23</td>\n",
       "    </tr>\n",
       "    <tr>\n",
       "      <th>27</th>\n",
       "      <td>755</td>\n",
       "      <td>1</td>\n",
       "    </tr>\n",
       "    <tr>\n",
       "      <th>28</th>\n",
       "      <td>761</td>\n",
       "      <td>5</td>\n",
       "    </tr>\n",
       "    <tr>\n",
       "      <th>29</th>\n",
       "      <td>812</td>\n",
       "      <td>1</td>\n",
       "    </tr>\n",
       "    <tr>\n",
       "      <th>30</th>\n",
       "      <td>820</td>\n",
       "      <td>1</td>\n",
       "    </tr>\n",
       "    <tr>\n",
       "      <th>31</th>\n",
       "      <td>850</td>\n",
       "      <td>2</td>\n",
       "    </tr>\n",
       "    <tr>\n",
       "      <th>32</th>\n",
       "      <td>886</td>\n",
       "      <td>2</td>\n",
       "    </tr>\n",
       "    <tr>\n",
       "      <th>33</th>\n",
       "      <td>888</td>\n",
       "      <td>19</td>\n",
       "    </tr>\n",
       "    <tr>\n",
       "      <th>34</th>\n",
       "      <td>890</td>\n",
       "      <td>1</td>\n",
       "    </tr>\n",
       "    <tr>\n",
       "      <th>35</th>\n",
       "      <td>900</td>\n",
       "      <td>2</td>\n",
       "    </tr>\n",
       "    <tr>\n",
       "      <th>36</th>\n",
       "      <td>901</td>\n",
       "      <td>3</td>\n",
       "    </tr>\n",
       "    <tr>\n",
       "      <th>37</th>\n",
       "      <td>920</td>\n",
       "      <td>1</td>\n",
       "    </tr>\n",
       "    <tr>\n",
       "      <th>38</th>\n",
       "      <td>930</td>\n",
       "      <td>7</td>\n",
       "    </tr>\n",
       "    <tr>\n",
       "      <th>39</th>\n",
       "      <td>940</td>\n",
       "      <td>1</td>\n",
       "    </tr>\n",
       "    <tr>\n",
       "      <th>40</th>\n",
       "      <td>946</td>\n",
       "      <td>4</td>\n",
       "    </tr>\n",
       "    <tr>\n",
       "      <th>41</th>\n",
       "      <td>956</td>\n",
       "      <td>2</td>\n",
       "    </tr>\n",
       "  </tbody>\n",
       "</table>\n",
       "</div>"
      ],
      "text/plain": [
       "    Crm_Cd  Numbers\n",
       "0      210       12\n",
       "1      220        4\n",
       "2      230       24\n",
       "3      310       16\n",
       "4      320        2\n",
       "5      330       82\n",
       "6      341       26\n",
       "7      343        1\n",
       "8      350        9\n",
       "9      351        2\n",
       "10     354       10\n",
       "11     420        9\n",
       "12     421        1\n",
       "13     440       44\n",
       "14     442       28\n",
       "15     480       11\n",
       "16     510       28\n",
       "17     623        5\n",
       "18     624       74\n",
       "19     625        2\n",
       "20     647        1\n",
       "21     648        3\n",
       "22     649        1\n",
       "23     662        5\n",
       "24     666        1\n",
       "25     740       23\n",
       "26     745       23\n",
       "27     755        1\n",
       "28     761        5\n",
       "29     812        1\n",
       "30     820        1\n",
       "31     850        2\n",
       "32     886        2\n",
       "33     888       19\n",
       "34     890        1\n",
       "35     900        2\n",
       "36     901        3\n",
       "37     920        1\n",
       "38     930        7\n",
       "39     940        1\n",
       "40     946        4\n",
       "41     956        2"
      ]
     },
     "execution_count": 20,
     "metadata": {},
     "output_type": "execute_result"
    }
   ],
   "source": [
    "data=df.groupby('Crm_Cd').size().reset_index(name='Numbers')\n",
    "data"
   ]
  },
  {
   "cell_type": "code",
   "execution_count": 27,
   "id": "1b9eeb14",
   "metadata": {},
   "outputs": [
    {
     "data": {
      "application/vnd.plotly.v1+json": {
       "config": {
        "plotlyServerURL": "https://plot.ly"
       },
       "data": [
        {
         "hovertemplate": "Crm_Cd=%{x}<br>Numbers=%{y}<extra></extra>",
         "legendgroup": "",
         "marker": {
          "color": "#636efa",
          "symbol": "circle"
         },
         "mode": "markers",
         "name": "",
         "orientation": "v",
         "showlegend": false,
         "type": "scatter",
         "x": [
          210,
          220,
          230,
          310,
          320,
          330,
          341,
          343,
          350,
          351,
          354,
          420,
          421,
          440,
          442,
          480,
          510,
          623,
          624,
          625,
          647,
          648,
          649,
          662,
          666,
          740,
          745,
          755,
          761,
          812,
          820,
          850,
          886,
          888,
          890,
          900,
          901,
          920,
          930,
          940,
          946,
          956
         ],
         "xaxis": "x",
         "y": [
          12,
          4,
          24,
          16,
          2,
          82,
          26,
          1,
          9,
          2,
          10,
          9,
          1,
          44,
          28,
          11,
          28,
          5,
          74,
          2,
          1,
          3,
          1,
          5,
          1,
          23,
          23,
          1,
          5,
          1,
          1,
          2,
          2,
          19,
          1,
          2,
          3,
          1,
          7,
          1,
          4,
          2
         ],
         "yaxis": "y"
        }
       ],
       "layout": {
        "legend": {
         "tracegroupgap": 0
        },
        "template": {
         "data": {
          "bar": [
           {
            "error_x": {
             "color": "#2a3f5f"
            },
            "error_y": {
             "color": "#2a3f5f"
            },
            "marker": {
             "line": {
              "color": "#E5ECF6",
              "width": 0.5
             },
             "pattern": {
              "fillmode": "overlay",
              "size": 10,
              "solidity": 0.2
             }
            },
            "type": "bar"
           }
          ],
          "barpolar": [
           {
            "marker": {
             "line": {
              "color": "#E5ECF6",
              "width": 0.5
             },
             "pattern": {
              "fillmode": "overlay",
              "size": 10,
              "solidity": 0.2
             }
            },
            "type": "barpolar"
           }
          ],
          "carpet": [
           {
            "aaxis": {
             "endlinecolor": "#2a3f5f",
             "gridcolor": "white",
             "linecolor": "white",
             "minorgridcolor": "white",
             "startlinecolor": "#2a3f5f"
            },
            "baxis": {
             "endlinecolor": "#2a3f5f",
             "gridcolor": "white",
             "linecolor": "white",
             "minorgridcolor": "white",
             "startlinecolor": "#2a3f5f"
            },
            "type": "carpet"
           }
          ],
          "choropleth": [
           {
            "colorbar": {
             "outlinewidth": 0,
             "ticks": ""
            },
            "type": "choropleth"
           }
          ],
          "contour": [
           {
            "colorbar": {
             "outlinewidth": 0,
             "ticks": ""
            },
            "colorscale": [
             [
              0,
              "#0d0887"
             ],
             [
              0.1111111111111111,
              "#46039f"
             ],
             [
              0.2222222222222222,
              "#7201a8"
             ],
             [
              0.3333333333333333,
              "#9c179e"
             ],
             [
              0.4444444444444444,
              "#bd3786"
             ],
             [
              0.5555555555555556,
              "#d8576b"
             ],
             [
              0.6666666666666666,
              "#ed7953"
             ],
             [
              0.7777777777777778,
              "#fb9f3a"
             ],
             [
              0.8888888888888888,
              "#fdca26"
             ],
             [
              1,
              "#f0f921"
             ]
            ],
            "type": "contour"
           }
          ],
          "contourcarpet": [
           {
            "colorbar": {
             "outlinewidth": 0,
             "ticks": ""
            },
            "type": "contourcarpet"
           }
          ],
          "heatmap": [
           {
            "colorbar": {
             "outlinewidth": 0,
             "ticks": ""
            },
            "colorscale": [
             [
              0,
              "#0d0887"
             ],
             [
              0.1111111111111111,
              "#46039f"
             ],
             [
              0.2222222222222222,
              "#7201a8"
             ],
             [
              0.3333333333333333,
              "#9c179e"
             ],
             [
              0.4444444444444444,
              "#bd3786"
             ],
             [
              0.5555555555555556,
              "#d8576b"
             ],
             [
              0.6666666666666666,
              "#ed7953"
             ],
             [
              0.7777777777777778,
              "#fb9f3a"
             ],
             [
              0.8888888888888888,
              "#fdca26"
             ],
             [
              1,
              "#f0f921"
             ]
            ],
            "type": "heatmap"
           }
          ],
          "heatmapgl": [
           {
            "colorbar": {
             "outlinewidth": 0,
             "ticks": ""
            },
            "colorscale": [
             [
              0,
              "#0d0887"
             ],
             [
              0.1111111111111111,
              "#46039f"
             ],
             [
              0.2222222222222222,
              "#7201a8"
             ],
             [
              0.3333333333333333,
              "#9c179e"
             ],
             [
              0.4444444444444444,
              "#bd3786"
             ],
             [
              0.5555555555555556,
              "#d8576b"
             ],
             [
              0.6666666666666666,
              "#ed7953"
             ],
             [
              0.7777777777777778,
              "#fb9f3a"
             ],
             [
              0.8888888888888888,
              "#fdca26"
             ],
             [
              1,
              "#f0f921"
             ]
            ],
            "type": "heatmapgl"
           }
          ],
          "histogram": [
           {
            "marker": {
             "pattern": {
              "fillmode": "overlay",
              "size": 10,
              "solidity": 0.2
             }
            },
            "type": "histogram"
           }
          ],
          "histogram2d": [
           {
            "colorbar": {
             "outlinewidth": 0,
             "ticks": ""
            },
            "colorscale": [
             [
              0,
              "#0d0887"
             ],
             [
              0.1111111111111111,
              "#46039f"
             ],
             [
              0.2222222222222222,
              "#7201a8"
             ],
             [
              0.3333333333333333,
              "#9c179e"
             ],
             [
              0.4444444444444444,
              "#bd3786"
             ],
             [
              0.5555555555555556,
              "#d8576b"
             ],
             [
              0.6666666666666666,
              "#ed7953"
             ],
             [
              0.7777777777777778,
              "#fb9f3a"
             ],
             [
              0.8888888888888888,
              "#fdca26"
             ],
             [
              1,
              "#f0f921"
             ]
            ],
            "type": "histogram2d"
           }
          ],
          "histogram2dcontour": [
           {
            "colorbar": {
             "outlinewidth": 0,
             "ticks": ""
            },
            "colorscale": [
             [
              0,
              "#0d0887"
             ],
             [
              0.1111111111111111,
              "#46039f"
             ],
             [
              0.2222222222222222,
              "#7201a8"
             ],
             [
              0.3333333333333333,
              "#9c179e"
             ],
             [
              0.4444444444444444,
              "#bd3786"
             ],
             [
              0.5555555555555556,
              "#d8576b"
             ],
             [
              0.6666666666666666,
              "#ed7953"
             ],
             [
              0.7777777777777778,
              "#fb9f3a"
             ],
             [
              0.8888888888888888,
              "#fdca26"
             ],
             [
              1,
              "#f0f921"
             ]
            ],
            "type": "histogram2dcontour"
           }
          ],
          "mesh3d": [
           {
            "colorbar": {
             "outlinewidth": 0,
             "ticks": ""
            },
            "type": "mesh3d"
           }
          ],
          "parcoords": [
           {
            "line": {
             "colorbar": {
              "outlinewidth": 0,
              "ticks": ""
             }
            },
            "type": "parcoords"
           }
          ],
          "pie": [
           {
            "automargin": true,
            "type": "pie"
           }
          ],
          "scatter": [
           {
            "fillpattern": {
             "fillmode": "overlay",
             "size": 10,
             "solidity": 0.2
            },
            "type": "scatter"
           }
          ],
          "scatter3d": [
           {
            "line": {
             "colorbar": {
              "outlinewidth": 0,
              "ticks": ""
             }
            },
            "marker": {
             "colorbar": {
              "outlinewidth": 0,
              "ticks": ""
             }
            },
            "type": "scatter3d"
           }
          ],
          "scattercarpet": [
           {
            "marker": {
             "colorbar": {
              "outlinewidth": 0,
              "ticks": ""
             }
            },
            "type": "scattercarpet"
           }
          ],
          "scattergeo": [
           {
            "marker": {
             "colorbar": {
              "outlinewidth": 0,
              "ticks": ""
             }
            },
            "type": "scattergeo"
           }
          ],
          "scattergl": [
           {
            "marker": {
             "colorbar": {
              "outlinewidth": 0,
              "ticks": ""
             }
            },
            "type": "scattergl"
           }
          ],
          "scattermapbox": [
           {
            "marker": {
             "colorbar": {
              "outlinewidth": 0,
              "ticks": ""
             }
            },
            "type": "scattermapbox"
           }
          ],
          "scatterpolar": [
           {
            "marker": {
             "colorbar": {
              "outlinewidth": 0,
              "ticks": ""
             }
            },
            "type": "scatterpolar"
           }
          ],
          "scatterpolargl": [
           {
            "marker": {
             "colorbar": {
              "outlinewidth": 0,
              "ticks": ""
             }
            },
            "type": "scatterpolargl"
           }
          ],
          "scatterternary": [
           {
            "marker": {
             "colorbar": {
              "outlinewidth": 0,
              "ticks": ""
             }
            },
            "type": "scatterternary"
           }
          ],
          "surface": [
           {
            "colorbar": {
             "outlinewidth": 0,
             "ticks": ""
            },
            "colorscale": [
             [
              0,
              "#0d0887"
             ],
             [
              0.1111111111111111,
              "#46039f"
             ],
             [
              0.2222222222222222,
              "#7201a8"
             ],
             [
              0.3333333333333333,
              "#9c179e"
             ],
             [
              0.4444444444444444,
              "#bd3786"
             ],
             [
              0.5555555555555556,
              "#d8576b"
             ],
             [
              0.6666666666666666,
              "#ed7953"
             ],
             [
              0.7777777777777778,
              "#fb9f3a"
             ],
             [
              0.8888888888888888,
              "#fdca26"
             ],
             [
              1,
              "#f0f921"
             ]
            ],
            "type": "surface"
           }
          ],
          "table": [
           {
            "cells": {
             "fill": {
              "color": "#EBF0F8"
             },
             "line": {
              "color": "white"
             }
            },
            "header": {
             "fill": {
              "color": "#C8D4E3"
             },
             "line": {
              "color": "white"
             }
            },
            "type": "table"
           }
          ]
         },
         "layout": {
          "annotationdefaults": {
           "arrowcolor": "#2a3f5f",
           "arrowhead": 0,
           "arrowwidth": 1
          },
          "autotypenumbers": "strict",
          "coloraxis": {
           "colorbar": {
            "outlinewidth": 0,
            "ticks": ""
           }
          },
          "colorscale": {
           "diverging": [
            [
             0,
             "#8e0152"
            ],
            [
             0.1,
             "#c51b7d"
            ],
            [
             0.2,
             "#de77ae"
            ],
            [
             0.3,
             "#f1b6da"
            ],
            [
             0.4,
             "#fde0ef"
            ],
            [
             0.5,
             "#f7f7f7"
            ],
            [
             0.6,
             "#e6f5d0"
            ],
            [
             0.7,
             "#b8e186"
            ],
            [
             0.8,
             "#7fbc41"
            ],
            [
             0.9,
             "#4d9221"
            ],
            [
             1,
             "#276419"
            ]
           ],
           "sequential": [
            [
             0,
             "#0d0887"
            ],
            [
             0.1111111111111111,
             "#46039f"
            ],
            [
             0.2222222222222222,
             "#7201a8"
            ],
            [
             0.3333333333333333,
             "#9c179e"
            ],
            [
             0.4444444444444444,
             "#bd3786"
            ],
            [
             0.5555555555555556,
             "#d8576b"
            ],
            [
             0.6666666666666666,
             "#ed7953"
            ],
            [
             0.7777777777777778,
             "#fb9f3a"
            ],
            [
             0.8888888888888888,
             "#fdca26"
            ],
            [
             1,
             "#f0f921"
            ]
           ],
           "sequentialminus": [
            [
             0,
             "#0d0887"
            ],
            [
             0.1111111111111111,
             "#46039f"
            ],
            [
             0.2222222222222222,
             "#7201a8"
            ],
            [
             0.3333333333333333,
             "#9c179e"
            ],
            [
             0.4444444444444444,
             "#bd3786"
            ],
            [
             0.5555555555555556,
             "#d8576b"
            ],
            [
             0.6666666666666666,
             "#ed7953"
            ],
            [
             0.7777777777777778,
             "#fb9f3a"
            ],
            [
             0.8888888888888888,
             "#fdca26"
            ],
            [
             1,
             "#f0f921"
            ]
           ]
          },
          "colorway": [
           "#636efa",
           "#EF553B",
           "#00cc96",
           "#ab63fa",
           "#FFA15A",
           "#19d3f3",
           "#FF6692",
           "#B6E880",
           "#FF97FF",
           "#FECB52"
          ],
          "font": {
           "color": "#2a3f5f"
          },
          "geo": {
           "bgcolor": "white",
           "lakecolor": "white",
           "landcolor": "#E5ECF6",
           "showlakes": true,
           "showland": true,
           "subunitcolor": "white"
          },
          "hoverlabel": {
           "align": "left"
          },
          "hovermode": "closest",
          "mapbox": {
           "style": "light"
          },
          "paper_bgcolor": "white",
          "plot_bgcolor": "#E5ECF6",
          "polar": {
           "angularaxis": {
            "gridcolor": "white",
            "linecolor": "white",
            "ticks": ""
           },
           "bgcolor": "#E5ECF6",
           "radialaxis": {
            "gridcolor": "white",
            "linecolor": "white",
            "ticks": ""
           }
          },
          "scene": {
           "xaxis": {
            "backgroundcolor": "#E5ECF6",
            "gridcolor": "white",
            "gridwidth": 2,
            "linecolor": "white",
            "showbackground": true,
            "ticks": "",
            "zerolinecolor": "white"
           },
           "yaxis": {
            "backgroundcolor": "#E5ECF6",
            "gridcolor": "white",
            "gridwidth": 2,
            "linecolor": "white",
            "showbackground": true,
            "ticks": "",
            "zerolinecolor": "white"
           },
           "zaxis": {
            "backgroundcolor": "#E5ECF6",
            "gridcolor": "white",
            "gridwidth": 2,
            "linecolor": "white",
            "showbackground": true,
            "ticks": "",
            "zerolinecolor": "white"
           }
          },
          "shapedefaults": {
           "line": {
            "color": "#2a3f5f"
           }
          },
          "ternary": {
           "aaxis": {
            "gridcolor": "white",
            "linecolor": "white",
            "ticks": ""
           },
           "baxis": {
            "gridcolor": "white",
            "linecolor": "white",
            "ticks": ""
           },
           "bgcolor": "#E5ECF6",
           "caxis": {
            "gridcolor": "white",
            "linecolor": "white",
            "ticks": ""
           }
          },
          "title": {
           "x": 0.05
          },
          "xaxis": {
           "automargin": true,
           "gridcolor": "white",
           "linecolor": "white",
           "ticks": "",
           "title": {
            "standoff": 15
           },
           "zerolinecolor": "white",
           "zerolinewidth": 2
          },
          "yaxis": {
           "automargin": true,
           "gridcolor": "white",
           "linecolor": "white",
           "ticks": "",
           "title": {
            "standoff": 15
           },
           "zerolinecolor": "white",
           "zerolinewidth": 2
          }
         }
        },
        "title": {
         "text": "numbers of crimes with respect to crimecode"
        },
        "xaxis": {
         "anchor": "y",
         "domain": [
          0,
          1
         ],
         "title": {
          "text": "Crm_Cd"
         }
        },
        "yaxis": {
         "anchor": "x",
         "domain": [
          0,
          1
         ],
         "title": {
          "text": "Numbers"
         }
        }
       }
      },
      "text/html": [
       "<div>                            <div id=\"a9a19023-8c9f-4ac5-92f3-362ba0e59242\" class=\"plotly-graph-div\" style=\"height:525px; width:100%;\"></div>            <script type=\"text/javascript\">                require([\"plotly\"], function(Plotly) {                    window.PLOTLYENV=window.PLOTLYENV || {};                                    if (document.getElementById(\"a9a19023-8c9f-4ac5-92f3-362ba0e59242\")) {                    Plotly.newPlot(                        \"a9a19023-8c9f-4ac5-92f3-362ba0e59242\",                        [{\"hovertemplate\":\"Crm_Cd=%{x}<br>Numbers=%{y}<extra></extra>\",\"legendgroup\":\"\",\"marker\":{\"color\":\"#636efa\",\"symbol\":\"circle\"},\"mode\":\"markers\",\"name\":\"\",\"orientation\":\"v\",\"showlegend\":false,\"x\":[210,220,230,310,320,330,341,343,350,351,354,420,421,440,442,480,510,623,624,625,647,648,649,662,666,740,745,755,761,812,820,850,886,888,890,900,901,920,930,940,946,956],\"xaxis\":\"x\",\"y\":[12,4,24,16,2,82,26,1,9,2,10,9,1,44,28,11,28,5,74,2,1,3,1,5,1,23,23,1,5,1,1,2,2,19,1,2,3,1,7,1,4,2],\"yaxis\":\"y\",\"type\":\"scatter\"}],                        {\"template\":{\"data\":{\"histogram2dcontour\":[{\"type\":\"histogram2dcontour\",\"colorbar\":{\"outlinewidth\":0,\"ticks\":\"\"},\"colorscale\":[[0.0,\"#0d0887\"],[0.1111111111111111,\"#46039f\"],[0.2222222222222222,\"#7201a8\"],[0.3333333333333333,\"#9c179e\"],[0.4444444444444444,\"#bd3786\"],[0.5555555555555556,\"#d8576b\"],[0.6666666666666666,\"#ed7953\"],[0.7777777777777778,\"#fb9f3a\"],[0.8888888888888888,\"#fdca26\"],[1.0,\"#f0f921\"]]}],\"choropleth\":[{\"type\":\"choropleth\",\"colorbar\":{\"outlinewidth\":0,\"ticks\":\"\"}}],\"histogram2d\":[{\"type\":\"histogram2d\",\"colorbar\":{\"outlinewidth\":0,\"ticks\":\"\"},\"colorscale\":[[0.0,\"#0d0887\"],[0.1111111111111111,\"#46039f\"],[0.2222222222222222,\"#7201a8\"],[0.3333333333333333,\"#9c179e\"],[0.4444444444444444,\"#bd3786\"],[0.5555555555555556,\"#d8576b\"],[0.6666666666666666,\"#ed7953\"],[0.7777777777777778,\"#fb9f3a\"],[0.8888888888888888,\"#fdca26\"],[1.0,\"#f0f921\"]]}],\"heatmap\":[{\"type\":\"heatmap\",\"colorbar\":{\"outlinewidth\":0,\"ticks\":\"\"},\"colorscale\":[[0.0,\"#0d0887\"],[0.1111111111111111,\"#46039f\"],[0.2222222222222222,\"#7201a8\"],[0.3333333333333333,\"#9c179e\"],[0.4444444444444444,\"#bd3786\"],[0.5555555555555556,\"#d8576b\"],[0.6666666666666666,\"#ed7953\"],[0.7777777777777778,\"#fb9f3a\"],[0.8888888888888888,\"#fdca26\"],[1.0,\"#f0f921\"]]}],\"heatmapgl\":[{\"type\":\"heatmapgl\",\"colorbar\":{\"outlinewidth\":0,\"ticks\":\"\"},\"colorscale\":[[0.0,\"#0d0887\"],[0.1111111111111111,\"#46039f\"],[0.2222222222222222,\"#7201a8\"],[0.3333333333333333,\"#9c179e\"],[0.4444444444444444,\"#bd3786\"],[0.5555555555555556,\"#d8576b\"],[0.6666666666666666,\"#ed7953\"],[0.7777777777777778,\"#fb9f3a\"],[0.8888888888888888,\"#fdca26\"],[1.0,\"#f0f921\"]]}],\"contourcarpet\":[{\"type\":\"contourcarpet\",\"colorbar\":{\"outlinewidth\":0,\"ticks\":\"\"}}],\"contour\":[{\"type\":\"contour\",\"colorbar\":{\"outlinewidth\":0,\"ticks\":\"\"},\"colorscale\":[[0.0,\"#0d0887\"],[0.1111111111111111,\"#46039f\"],[0.2222222222222222,\"#7201a8\"],[0.3333333333333333,\"#9c179e\"],[0.4444444444444444,\"#bd3786\"],[0.5555555555555556,\"#d8576b\"],[0.6666666666666666,\"#ed7953\"],[0.7777777777777778,\"#fb9f3a\"],[0.8888888888888888,\"#fdca26\"],[1.0,\"#f0f921\"]]}],\"surface\":[{\"type\":\"surface\",\"colorbar\":{\"outlinewidth\":0,\"ticks\":\"\"},\"colorscale\":[[0.0,\"#0d0887\"],[0.1111111111111111,\"#46039f\"],[0.2222222222222222,\"#7201a8\"],[0.3333333333333333,\"#9c179e\"],[0.4444444444444444,\"#bd3786\"],[0.5555555555555556,\"#d8576b\"],[0.6666666666666666,\"#ed7953\"],[0.7777777777777778,\"#fb9f3a\"],[0.8888888888888888,\"#fdca26\"],[1.0,\"#f0f921\"]]}],\"mesh3d\":[{\"type\":\"mesh3d\",\"colorbar\":{\"outlinewidth\":0,\"ticks\":\"\"}}],\"scatter\":[{\"fillpattern\":{\"fillmode\":\"overlay\",\"size\":10,\"solidity\":0.2},\"type\":\"scatter\"}],\"parcoords\":[{\"type\":\"parcoords\",\"line\":{\"colorbar\":{\"outlinewidth\":0,\"ticks\":\"\"}}}],\"scatterpolargl\":[{\"type\":\"scatterpolargl\",\"marker\":{\"colorbar\":{\"outlinewidth\":0,\"ticks\":\"\"}}}],\"bar\":[{\"error_x\":{\"color\":\"#2a3f5f\"},\"error_y\":{\"color\":\"#2a3f5f\"},\"marker\":{\"line\":{\"color\":\"#E5ECF6\",\"width\":0.5},\"pattern\":{\"fillmode\":\"overlay\",\"size\":10,\"solidity\":0.2}},\"type\":\"bar\"}],\"scattergeo\":[{\"type\":\"scattergeo\",\"marker\":{\"colorbar\":{\"outlinewidth\":0,\"ticks\":\"\"}}}],\"scatterpolar\":[{\"type\":\"scatterpolar\",\"marker\":{\"colorbar\":{\"outlinewidth\":0,\"ticks\":\"\"}}}],\"histogram\":[{\"marker\":{\"pattern\":{\"fillmode\":\"overlay\",\"size\":10,\"solidity\":0.2}},\"type\":\"histogram\"}],\"scattergl\":[{\"type\":\"scattergl\",\"marker\":{\"colorbar\":{\"outlinewidth\":0,\"ticks\":\"\"}}}],\"scatter3d\":[{\"type\":\"scatter3d\",\"line\":{\"colorbar\":{\"outlinewidth\":0,\"ticks\":\"\"}},\"marker\":{\"colorbar\":{\"outlinewidth\":0,\"ticks\":\"\"}}}],\"scattermapbox\":[{\"type\":\"scattermapbox\",\"marker\":{\"colorbar\":{\"outlinewidth\":0,\"ticks\":\"\"}}}],\"scatterternary\":[{\"type\":\"scatterternary\",\"marker\":{\"colorbar\":{\"outlinewidth\":0,\"ticks\":\"\"}}}],\"scattercarpet\":[{\"type\":\"scattercarpet\",\"marker\":{\"colorbar\":{\"outlinewidth\":0,\"ticks\":\"\"}}}],\"carpet\":[{\"aaxis\":{\"endlinecolor\":\"#2a3f5f\",\"gridcolor\":\"white\",\"linecolor\":\"white\",\"minorgridcolor\":\"white\",\"startlinecolor\":\"#2a3f5f\"},\"baxis\":{\"endlinecolor\":\"#2a3f5f\",\"gridcolor\":\"white\",\"linecolor\":\"white\",\"minorgridcolor\":\"white\",\"startlinecolor\":\"#2a3f5f\"},\"type\":\"carpet\"}],\"table\":[{\"cells\":{\"fill\":{\"color\":\"#EBF0F8\"},\"line\":{\"color\":\"white\"}},\"header\":{\"fill\":{\"color\":\"#C8D4E3\"},\"line\":{\"color\":\"white\"}},\"type\":\"table\"}],\"barpolar\":[{\"marker\":{\"line\":{\"color\":\"#E5ECF6\",\"width\":0.5},\"pattern\":{\"fillmode\":\"overlay\",\"size\":10,\"solidity\":0.2}},\"type\":\"barpolar\"}],\"pie\":[{\"automargin\":true,\"type\":\"pie\"}]},\"layout\":{\"autotypenumbers\":\"strict\",\"colorway\":[\"#636efa\",\"#EF553B\",\"#00cc96\",\"#ab63fa\",\"#FFA15A\",\"#19d3f3\",\"#FF6692\",\"#B6E880\",\"#FF97FF\",\"#FECB52\"],\"font\":{\"color\":\"#2a3f5f\"},\"hovermode\":\"closest\",\"hoverlabel\":{\"align\":\"left\"},\"paper_bgcolor\":\"white\",\"plot_bgcolor\":\"#E5ECF6\",\"polar\":{\"bgcolor\":\"#E5ECF6\",\"angularaxis\":{\"gridcolor\":\"white\",\"linecolor\":\"white\",\"ticks\":\"\"},\"radialaxis\":{\"gridcolor\":\"white\",\"linecolor\":\"white\",\"ticks\":\"\"}},\"ternary\":{\"bgcolor\":\"#E5ECF6\",\"aaxis\":{\"gridcolor\":\"white\",\"linecolor\":\"white\",\"ticks\":\"\"},\"baxis\":{\"gridcolor\":\"white\",\"linecolor\":\"white\",\"ticks\":\"\"},\"caxis\":{\"gridcolor\":\"white\",\"linecolor\":\"white\",\"ticks\":\"\"}},\"coloraxis\":{\"colorbar\":{\"outlinewidth\":0,\"ticks\":\"\"}},\"colorscale\":{\"sequential\":[[0.0,\"#0d0887\"],[0.1111111111111111,\"#46039f\"],[0.2222222222222222,\"#7201a8\"],[0.3333333333333333,\"#9c179e\"],[0.4444444444444444,\"#bd3786\"],[0.5555555555555556,\"#d8576b\"],[0.6666666666666666,\"#ed7953\"],[0.7777777777777778,\"#fb9f3a\"],[0.8888888888888888,\"#fdca26\"],[1.0,\"#f0f921\"]],\"sequentialminus\":[[0.0,\"#0d0887\"],[0.1111111111111111,\"#46039f\"],[0.2222222222222222,\"#7201a8\"],[0.3333333333333333,\"#9c179e\"],[0.4444444444444444,\"#bd3786\"],[0.5555555555555556,\"#d8576b\"],[0.6666666666666666,\"#ed7953\"],[0.7777777777777778,\"#fb9f3a\"],[0.8888888888888888,\"#fdca26\"],[1.0,\"#f0f921\"]],\"diverging\":[[0,\"#8e0152\"],[0.1,\"#c51b7d\"],[0.2,\"#de77ae\"],[0.3,\"#f1b6da\"],[0.4,\"#fde0ef\"],[0.5,\"#f7f7f7\"],[0.6,\"#e6f5d0\"],[0.7,\"#b8e186\"],[0.8,\"#7fbc41\"],[0.9,\"#4d9221\"],[1,\"#276419\"]]},\"xaxis\":{\"gridcolor\":\"white\",\"linecolor\":\"white\",\"ticks\":\"\",\"title\":{\"standoff\":15},\"zerolinecolor\":\"white\",\"automargin\":true,\"zerolinewidth\":2},\"yaxis\":{\"gridcolor\":\"white\",\"linecolor\":\"white\",\"ticks\":\"\",\"title\":{\"standoff\":15},\"zerolinecolor\":\"white\",\"automargin\":true,\"zerolinewidth\":2},\"scene\":{\"xaxis\":{\"backgroundcolor\":\"#E5ECF6\",\"gridcolor\":\"white\",\"linecolor\":\"white\",\"showbackground\":true,\"ticks\":\"\",\"zerolinecolor\":\"white\",\"gridwidth\":2},\"yaxis\":{\"backgroundcolor\":\"#E5ECF6\",\"gridcolor\":\"white\",\"linecolor\":\"white\",\"showbackground\":true,\"ticks\":\"\",\"zerolinecolor\":\"white\",\"gridwidth\":2},\"zaxis\":{\"backgroundcolor\":\"#E5ECF6\",\"gridcolor\":\"white\",\"linecolor\":\"white\",\"showbackground\":true,\"ticks\":\"\",\"zerolinecolor\":\"white\",\"gridwidth\":2}},\"shapedefaults\":{\"line\":{\"color\":\"#2a3f5f\"}},\"annotationdefaults\":{\"arrowcolor\":\"#2a3f5f\",\"arrowhead\":0,\"arrowwidth\":1},\"geo\":{\"bgcolor\":\"white\",\"landcolor\":\"#E5ECF6\",\"subunitcolor\":\"white\",\"showland\":true,\"showlakes\":true,\"lakecolor\":\"white\"},\"title\":{\"x\":0.05},\"mapbox\":{\"style\":\"light\"}}},\"xaxis\":{\"anchor\":\"y\",\"domain\":[0.0,1.0],\"title\":{\"text\":\"Crm_Cd\"}},\"yaxis\":{\"anchor\":\"x\",\"domain\":[0.0,1.0],\"title\":{\"text\":\"Numbers\"}},\"legend\":{\"tracegroupgap\":0},\"title\":{\"text\":\"numbers of crimes with respect to crimecode\"}},                        {\"responsive\": true}                    ).then(function(){\n",
       "                            \n",
       "var gd = document.getElementById('a9a19023-8c9f-4ac5-92f3-362ba0e59242');\n",
       "var x = new MutationObserver(function (mutations, observer) {{\n",
       "        var display = window.getComputedStyle(gd).display;\n",
       "        if (!display || display === 'none') {{\n",
       "            console.log([gd, 'removed!']);\n",
       "            Plotly.purge(gd);\n",
       "            observer.disconnect();\n",
       "        }}\n",
       "}});\n",
       "\n",
       "// Listen for the removal of the full notebook cells\n",
       "var notebookContainer = gd.closest('#notebook-container');\n",
       "if (notebookContainer) {{\n",
       "    x.observe(notebookContainer, {childList: true});\n",
       "}}\n",
       "\n",
       "// Listen for the clearing of the current output cell\n",
       "var outputEl = gd.closest('.output');\n",
       "if (outputEl) {{\n",
       "    x.observe(outputEl, {childList: true});\n",
       "}}\n",
       "\n",
       "                        })                };                });            </script>        </div>"
      ]
     },
     "metadata": {},
     "output_type": "display_data"
    }
   ],
   "source": [
    "st=px.scatter(data,x=\"Crm_Cd\",y=\"Numbers\",title=\"numbers of crimes with respect to crimecode\")\n",
    "st.show()"
   ]
  },
  {
   "cell_type": "code",
   "execution_count": null,
   "id": "2e1ae888",
   "metadata": {},
   "outputs": [],
   "source": []
  }
 ],
 "metadata": {
  "kernelspec": {
   "display_name": "Python 3 (ipykernel)",
   "language": "python",
   "name": "python3"
  },
  "language_info": {
   "codemirror_mode": {
    "name": "ipython",
    "version": 3
   },
   "file_extension": ".py",
   "mimetype": "text/x-python",
   "name": "python",
   "nbconvert_exporter": "python",
   "pygments_lexer": "ipython3",
   "version": "3.11.5"
  }
 },
 "nbformat": 4,
 "nbformat_minor": 5
}
